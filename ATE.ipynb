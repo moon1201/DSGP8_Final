{
 "cells": [
  {
   "cell_type": "code",
   "execution_count": 14,
   "id": "initial_id",
   "metadata": {
    "collapsed": true,
    "ExecuteTime": {
     "end_time": "2024-03-19T21:40:12.647277Z",
     "start_time": "2024-03-19T21:40:12.615323Z"
    }
   },
   "outputs": [],
   "source": [
    "import grapl.algorithms as algs\n",
    "import grapl.dsl as dsl\n",
    "import pandas as pd\n",
    "import numpy as np\n",
    "\n",
    "causal_graph = '\"Alcohol Consumption Causal Graph\"; \\\n",
    "                D; F; S; A; P; M; N; J; K; G; H; \\\n",
    "                F -> D; \\\n",
    "                S -> D; \\\n",
    "                A -> D; \\\n",
    "                P -> D; \\\n",
    "                M -> D; \\\n",
    "                N -> D; \\\n",
    "                J -> D; \\\n",
    "                K -> D; \\\n",
    "                P -> F; \\\n",
    "                M -> F; \\\n",
    "                N -> F; \\\n",
    "                J -> F; \\\n",
    "                K -> F; \\\n",
    "                M -> J; \\\n",
    "                N -> K; \\\n",
    "                A -> H; \\\n",
    "                H -> D; \\\n",
    "                H -> G; \\\n",
    "                G -> D; '\n",
    "\n",
    "\n",
    "grapl_obj = dsl.GraplDSL()\n",
    "G = grapl_obj.readgrapl(causal_graph)\n",
    "# Dalc(D); Famrel(F); Sex(S); Age(A); Pstatus(P); Medu(M); Fedu(N); Mjob(J); Fjob(K); Goout(G); Health(H)"
   ]
  },
  {
   "cell_type": "code",
   "outputs": [],
   "source": [
    "id_str, id_eqn, isident = algs.idfixing(G, {'H'}, {'D'})"
   ],
   "metadata": {
    "collapsed": false,
    "ExecuteTime": {
     "end_time": "2024-03-19T21:40:15.035456Z",
     "start_time": "2024-03-19T21:40:13.760540Z"
    }
   },
   "id": "e1615c44b1012a47",
   "execution_count": 15
  },
  {
   "cell_type": "code",
   "outputs": [
    {
     "data": {
      "text/plain": "      sex  age  Pstatus  Medu  Fedu  famrel  goout  health  Dalc  Walc  \\\n0     0.0   18      0.0     4     4       4      4       3     1     1   \n1     0.0   17      1.0     1     1       5      3       3     1     1   \n2     0.0   15      1.0     1     1       4      2       3     2     3   \n3     0.0   15      1.0     4     2       3      2       5     1     1   \n4     0.0   16      1.0     3     3       4      2       5     1     2   \n...   ...  ...      ...   ...   ...     ...    ...     ...   ...   ...   \n1039  0.0   19      1.0     2     3       5      2       5     1     2   \n1040  0.0   18      1.0     3     1       4      4       1     1     1   \n1041  0.0   18      1.0     1     1       1      1       5     1     1   \n1042  1.0   17      1.0     3     1       2      5       2     3     4   \n1043  1.0   18      1.0     3     2       4      1       5     3     4   \n\n      Mjob_at_home  Mjob_health  Mjob_other  Mjob_services  Mjob_teacher  \\\n0             True        False       False          False         False   \n1             True        False       False          False         False   \n2             True        False       False          False         False   \n3            False         True       False          False         False   \n4            False        False        True          False         False   \n...            ...          ...         ...            ...           ...   \n1039         False        False       False           True         False   \n1040         False        False       False          False          True   \n1041         False        False        True          False         False   \n1042         False        False       False           True         False   \n1043         False        False       False           True         False   \n\n      Fjob_at_home  Fjob_health  Fjob_other  Fjob_services  Fjob_teacher  \n0            False        False       False          False          True  \n1            False        False        True          False         False  \n2            False        False        True          False         False  \n3            False        False       False           True         False  \n4            False        False        True          False         False  \n...            ...          ...         ...            ...           ...  \n1039         False        False        True          False         False  \n1040         False        False       False           True         False  \n1041         False        False        True          False         False  \n1042         False        False       False           True         False  \n1043         False        False        True          False         False  \n\n[1044 rows x 20 columns]",
      "text/html": "<div>\n<style scoped>\n    .dataframe tbody tr th:only-of-type {\n        vertical-align: middle;\n    }\n\n    .dataframe tbody tr th {\n        vertical-align: top;\n    }\n\n    .dataframe thead th {\n        text-align: right;\n    }\n</style>\n<table border=\"1\" class=\"dataframe\">\n  <thead>\n    <tr style=\"text-align: right;\">\n      <th></th>\n      <th>sex</th>\n      <th>age</th>\n      <th>Pstatus</th>\n      <th>Medu</th>\n      <th>Fedu</th>\n      <th>famrel</th>\n      <th>goout</th>\n      <th>health</th>\n      <th>Dalc</th>\n      <th>Walc</th>\n      <th>Mjob_at_home</th>\n      <th>Mjob_health</th>\n      <th>Mjob_other</th>\n      <th>Mjob_services</th>\n      <th>Mjob_teacher</th>\n      <th>Fjob_at_home</th>\n      <th>Fjob_health</th>\n      <th>Fjob_other</th>\n      <th>Fjob_services</th>\n      <th>Fjob_teacher</th>\n    </tr>\n  </thead>\n  <tbody>\n    <tr>\n      <th>0</th>\n      <td>0.0</td>\n      <td>18</td>\n      <td>0.0</td>\n      <td>4</td>\n      <td>4</td>\n      <td>4</td>\n      <td>4</td>\n      <td>3</td>\n      <td>1</td>\n      <td>1</td>\n      <td>True</td>\n      <td>False</td>\n      <td>False</td>\n      <td>False</td>\n      <td>False</td>\n      <td>False</td>\n      <td>False</td>\n      <td>False</td>\n      <td>False</td>\n      <td>True</td>\n    </tr>\n    <tr>\n      <th>1</th>\n      <td>0.0</td>\n      <td>17</td>\n      <td>1.0</td>\n      <td>1</td>\n      <td>1</td>\n      <td>5</td>\n      <td>3</td>\n      <td>3</td>\n      <td>1</td>\n      <td>1</td>\n      <td>True</td>\n      <td>False</td>\n      <td>False</td>\n      <td>False</td>\n      <td>False</td>\n      <td>False</td>\n      <td>False</td>\n      <td>True</td>\n      <td>False</td>\n      <td>False</td>\n    </tr>\n    <tr>\n      <th>2</th>\n      <td>0.0</td>\n      <td>15</td>\n      <td>1.0</td>\n      <td>1</td>\n      <td>1</td>\n      <td>4</td>\n      <td>2</td>\n      <td>3</td>\n      <td>2</td>\n      <td>3</td>\n      <td>True</td>\n      <td>False</td>\n      <td>False</td>\n      <td>False</td>\n      <td>False</td>\n      <td>False</td>\n      <td>False</td>\n      <td>True</td>\n      <td>False</td>\n      <td>False</td>\n    </tr>\n    <tr>\n      <th>3</th>\n      <td>0.0</td>\n      <td>15</td>\n      <td>1.0</td>\n      <td>4</td>\n      <td>2</td>\n      <td>3</td>\n      <td>2</td>\n      <td>5</td>\n      <td>1</td>\n      <td>1</td>\n      <td>False</td>\n      <td>True</td>\n      <td>False</td>\n      <td>False</td>\n      <td>False</td>\n      <td>False</td>\n      <td>False</td>\n      <td>False</td>\n      <td>True</td>\n      <td>False</td>\n    </tr>\n    <tr>\n      <th>4</th>\n      <td>0.0</td>\n      <td>16</td>\n      <td>1.0</td>\n      <td>3</td>\n      <td>3</td>\n      <td>4</td>\n      <td>2</td>\n      <td>5</td>\n      <td>1</td>\n      <td>2</td>\n      <td>False</td>\n      <td>False</td>\n      <td>True</td>\n      <td>False</td>\n      <td>False</td>\n      <td>False</td>\n      <td>False</td>\n      <td>True</td>\n      <td>False</td>\n      <td>False</td>\n    </tr>\n    <tr>\n      <th>...</th>\n      <td>...</td>\n      <td>...</td>\n      <td>...</td>\n      <td>...</td>\n      <td>...</td>\n      <td>...</td>\n      <td>...</td>\n      <td>...</td>\n      <td>...</td>\n      <td>...</td>\n      <td>...</td>\n      <td>...</td>\n      <td>...</td>\n      <td>...</td>\n      <td>...</td>\n      <td>...</td>\n      <td>...</td>\n      <td>...</td>\n      <td>...</td>\n      <td>...</td>\n    </tr>\n    <tr>\n      <th>1039</th>\n      <td>0.0</td>\n      <td>19</td>\n      <td>1.0</td>\n      <td>2</td>\n      <td>3</td>\n      <td>5</td>\n      <td>2</td>\n      <td>5</td>\n      <td>1</td>\n      <td>2</td>\n      <td>False</td>\n      <td>False</td>\n      <td>False</td>\n      <td>True</td>\n      <td>False</td>\n      <td>False</td>\n      <td>False</td>\n      <td>True</td>\n      <td>False</td>\n      <td>False</td>\n    </tr>\n    <tr>\n      <th>1040</th>\n      <td>0.0</td>\n      <td>18</td>\n      <td>1.0</td>\n      <td>3</td>\n      <td>1</td>\n      <td>4</td>\n      <td>4</td>\n      <td>1</td>\n      <td>1</td>\n      <td>1</td>\n      <td>False</td>\n      <td>False</td>\n      <td>False</td>\n      <td>False</td>\n      <td>True</td>\n      <td>False</td>\n      <td>False</td>\n      <td>False</td>\n      <td>True</td>\n      <td>False</td>\n    </tr>\n    <tr>\n      <th>1041</th>\n      <td>0.0</td>\n      <td>18</td>\n      <td>1.0</td>\n      <td>1</td>\n      <td>1</td>\n      <td>1</td>\n      <td>1</td>\n      <td>5</td>\n      <td>1</td>\n      <td>1</td>\n      <td>False</td>\n      <td>False</td>\n      <td>True</td>\n      <td>False</td>\n      <td>False</td>\n      <td>False</td>\n      <td>False</td>\n      <td>True</td>\n      <td>False</td>\n      <td>False</td>\n    </tr>\n    <tr>\n      <th>1042</th>\n      <td>1.0</td>\n      <td>17</td>\n      <td>1.0</td>\n      <td>3</td>\n      <td>1</td>\n      <td>2</td>\n      <td>5</td>\n      <td>2</td>\n      <td>3</td>\n      <td>4</td>\n      <td>False</td>\n      <td>False</td>\n      <td>False</td>\n      <td>True</td>\n      <td>False</td>\n      <td>False</td>\n      <td>False</td>\n      <td>False</td>\n      <td>True</td>\n      <td>False</td>\n    </tr>\n    <tr>\n      <th>1043</th>\n      <td>1.0</td>\n      <td>18</td>\n      <td>1.0</td>\n      <td>3</td>\n      <td>2</td>\n      <td>4</td>\n      <td>1</td>\n      <td>5</td>\n      <td>3</td>\n      <td>4</td>\n      <td>False</td>\n      <td>False</td>\n      <td>False</td>\n      <td>True</td>\n      <td>False</td>\n      <td>False</td>\n      <td>False</td>\n      <td>True</td>\n      <td>False</td>\n      <td>False</td>\n    </tr>\n  </tbody>\n</table>\n<p>1044 rows × 20 columns</p>\n</div>"
     },
     "execution_count": 4,
     "metadata": {},
     "output_type": "execute_result"
    }
   ],
   "source": [
    "from sklearn.preprocessing import OrdinalEncoder\n",
    "import os\n",
    "from sklearn.model_selection import train_test_split\n",
    "\n",
    "# Load the dataset\n",
    "total_data = pd.read_csv(\"./student-encoded.csv\")\n",
    "# total_data.drop(labels = ['goout', 'health'], axis=1)\n",
    "# Specify the desired features and target column\n",
    "desired_features = ['sex', 'age', 'Pstatus','Medu','Fedu','famrel' ,'Mjob', 'Fjob', 'goout', 'health', 'Dalc','Walc']\n",
    "df = total_data[desired_features].copy()\n",
    "\n",
    "df = pd.get_dummies(df, columns=['Mjob', 'Fjob'])\n",
    "\n",
    "# target_column = df['Walc']\n",
    "target_column = df['Dalc']\n",
    "df"
   ],
   "metadata": {
    "collapsed": false,
    "ExecuteTime": {
     "end_time": "2024-03-19T21:38:59.029771Z",
     "start_time": "2024-03-19T21:38:58.352319Z"
    }
   },
   "id": "1a0cc3b833c927c5",
   "execution_count": 4
  },
  {
   "cell_type": "code",
   "outputs": [
    {
     "name": "stdout",
     "output_type": "stream",
     "text": [
      "Feature: sex\n",
      "Training set size: 835\n",
      "Testing set size: 209\n",
      "-----------\n",
      "Feature: age\n",
      "Training set size: 835\n",
      "Testing set size: 209\n",
      "-----------\n",
      "Feature: Pstatus\n",
      "Training set size: 835\n",
      "Testing set size: 209\n",
      "-----------\n",
      "Feature: Medu\n",
      "Training set size: 835\n",
      "Testing set size: 209\n",
      "-----------\n",
      "Feature: Fedu\n",
      "Training set size: 835\n",
      "Testing set size: 209\n",
      "-----------\n",
      "Feature: famrel\n",
      "Training set size: 835\n",
      "Testing set size: 209\n",
      "-----------\n",
      "Feature: goout\n",
      "Training set size: 835\n",
      "Testing set size: 209\n",
      "-----------\n",
      "Feature: health\n",
      "Training set size: 835\n",
      "Testing set size: 209\n",
      "-----------\n",
      "Feature: Dalc\n",
      "Training set size: 835\n",
      "Testing set size: 209\n",
      "-----------\n",
      "Feature: Walc\n",
      "Training set size: 835\n",
      "Testing set size: 209\n",
      "-----------\n",
      "Feature: Mjob_at_home\n",
      "Training set size: 835\n",
      "Testing set size: 209\n",
      "-----------\n",
      "Feature: Mjob_health\n",
      "Training set size: 835\n",
      "Testing set size: 209\n",
      "-----------\n",
      "Feature: Mjob_other\n",
      "Training set size: 835\n",
      "Testing set size: 209\n",
      "-----------\n",
      "Feature: Mjob_services\n",
      "Training set size: 835\n",
      "Testing set size: 209\n",
      "-----------\n",
      "Feature: Mjob_teacher\n",
      "Training set size: 835\n",
      "Testing set size: 209\n",
      "-----------\n",
      "Feature: Fjob_at_home\n",
      "Training set size: 835\n",
      "Testing set size: 209\n",
      "-----------\n",
      "Feature: Fjob_health\n",
      "Training set size: 835\n",
      "Testing set size: 209\n",
      "-----------\n",
      "Feature: Fjob_other\n",
      "Training set size: 835\n",
      "Testing set size: 209\n",
      "-----------\n",
      "Feature: Fjob_services\n",
      "Training set size: 835\n",
      "Testing set size: 209\n",
      "-----------\n",
      "Feature: Fjob_teacher\n",
      "Training set size: 835\n",
      "Testing set size: 209\n",
      "-----------\n"
     ]
    }
   ],
   "source": [
    "# Create a file to save the split data\n",
    "output_dir = \"./split_data/\"\n",
    "if not os.path.exists(output_dir):\n",
    "    os.makedirs(output_dir)\n",
    "\n",
    "# Iterate over each feature and split the dataset\n",
    "for column in df.columns:\n",
    "    # Get the data for the current feature\n",
    "    feature_data = df[[column]]\n",
    "    # Split the dataset into training and testing sets\n",
    "    X_train, X_test, y_train, y_test = train_test_split(feature_data, target_column, test_size=0.2, random_state=42)\n",
    "    \n",
    "    # Save the split training and testing sets as CSV files\n",
    "    train_filename = os.path.join(output_dir, f\"{column}_train.csv\")\n",
    "    test_filename = os.path.join(output_dir, f\"{column}_test.csv\")\n",
    "    X_train.to_csv(train_filename, index=False)\n",
    "    X_test.to_csv(test_filename, index=False)\n",
    "    \n",
    "    # Print the sizes of training and testing sets for each feature\n",
    "    print(f\"Feature: {column}\")\n",
    "    print(f\"Training set size: {len(X_train)}\")\n",
    "    print(f\"Testing set size: {len(X_test)}\")\n",
    "    print(\"-----------\")"
   ],
   "metadata": {
    "collapsed": false,
    "ExecuteTime": {
     "end_time": "2024-03-19T21:38:59.938324Z",
     "start_time": "2024-03-19T21:38:59.017009Z"
    }
   },
   "id": "f2f339a23cef30e6",
   "execution_count": 5
  },
  {
   "cell_type": "code",
   "outputs": [],
   "source": [
    "testdata_dir = \"./split_data/\"\n",
    "D_train = pd.read_csv(testdata_dir + \"Dalc_train.csv\")\n",
    "# D_train = pd.read_csv(testdata_dir + \"Walc_train.csv\")\n",
    "F_train = pd.read_csv(testdata_dir + \"famrel_train.csv\")\n",
    "S_train = pd.read_csv(testdata_dir + \"sex_train.csv\")\n",
    "A_train = pd.read_csv(testdata_dir + \"age_train.csv\")\n",
    "P_train = pd.read_csv(testdata_dir + \"Pstatus_train.csv\")\n",
    "M_train = pd.read_csv(testdata_dir + \"Medu_train.csv\")\n",
    "N_train = pd.read_csv(testdata_dir + \"Fedu_train.csv\")\n",
    "H_train = pd.read_csv(testdata_dir + \"health_train.csv\")\n",
    "G_train = pd.read_csv(testdata_dir + \"goout_train.csv\")\n",
    "\n",
    "Jathome_train = pd.read_csv(testdata_dir + \"Mjob_at_home_train.csv\")\n",
    "Jhealth_train = pd.read_csv(testdata_dir + \"Mjob_health_train.csv\")\n",
    "Jother_train = pd.read_csv(testdata_dir + \"Mjob_other_train.csv\")\n",
    "Jservices_train = pd.read_csv(testdata_dir + \"Mjob_services_train.csv\")\n",
    "Jteacher_train = pd.read_csv(testdata_dir + \"Mjob_teacher_train.csv\")\n",
    "Kathome_train = pd.read_csv(testdata_dir + \"Fjob_at_home_train.csv\")\n",
    "Khealth_train = pd.read_csv(testdata_dir + \"Fjob_health_train.csv\")\n",
    "Kother_train = pd.read_csv(testdata_dir + \"Fjob_other_train.csv\")\n",
    "Kservices_train = pd.read_csv(testdata_dir + \"Fjob_services_train.csv\")\n",
    "Kteacher_train = pd.read_csv(testdata_dir + \"Fjob_teacher_train.csv\")\n",
    "\n",
    "J_train = pd.concat([Jathome_train, Jhealth_train, Jother_train, Jservices_train, Jteacher_train], axis=1)\n",
    "K_train = pd.concat([Kathome_train, Khealth_train, Kother_train, Kservices_train, Kteacher_train], axis=1)\n",
    "\n",
    "# Reform the data to the acceptable format for the causalbootstrapping interfaces\n",
    "D_train = np.array(D_train)\n",
    "F_train = np.array(F_train)\n",
    "S_train = np.array(S_train)\n",
    "A_train = np.array(A_train)\n",
    "P_train = np.array(P_train)\n",
    "M_train = np.array(M_train)\n",
    "N_train = np.array(N_train)\n",
    "J_train = np.array(J_train)\n",
    "K_train = np.array(K_train)\n",
    "H_train = np.array(H_train)\n",
    "G_train = np.array(G_train)\n",
    "\n",
    "data = {\"D'\": D_train,\n",
    "        \"F\": F_train,\n",
    "        \"S\": S_train,\n",
    "        \"A\": A_train,\n",
    "        \"P\": P_train,\n",
    "        \"M\": M_train,\n",
    "        \"N\": N_train,\n",
    "        \"J\": J_train,\n",
    "        \"K\": K_train,\n",
    "        \"H\": H_train,\n",
    "        \"G\": G_train}"
   ],
   "metadata": {
    "collapsed": false,
    "ExecuteTime": {
     "end_time": "2024-03-19T21:39:00.072628Z",
     "start_time": "2024-03-19T21:38:59.289748Z"
    }
   },
   "id": "5e9700534a034513",
   "execution_count": 6
  },
  {
   "cell_type": "code",
   "outputs": [
    {
     "data": {
      "text/plain": "[\"(A'')\",\n '(M,J)',\n \"(H'',G)\",\n \"(G,H')\",\n \"(K,P,N,F,H,A''|M,J)\",\n '(A)',\n '(H,A)',\n \"(M,P,J,H,A''|K,N)\",\n '(S,P,N,H,A|M,J)',\n '(S,M,N,G,J|H,A)',\n \"(H,A')\",\n \"(M')\",\n \"(H'')/\",\n \"(A')\",\n \"(K',N,P|M,J)\",\n '(S)',\n \"(H,A'|K,P',M,N,F,J)\",\n \"(A,G,H'|M,P,K',N,F,J)\",\n '(P)',\n \"(P,M',J|K,N)\",\n \"(H,S,G,A|K,P,M',N,F,J)\",\n '(H,G)',\n \"(H')\",\n '(K,N)',\n '(N)',\n \"(M,P',J|K,N)\",\n '(K,S,P,N,H,A|M,J)',\n '(K,N,P|M,J)',\n '(S,D,G,H,A|K,N,F,J,M,P)',\n \"(S,H'',G,A|M,P,N,F,K'',J)\",\n '(H)',\n \"(M',J)\",\n \"(H,A'')\",\n \"(N,P,K''|M,J)\"]"
     },
     "execution_count": 89,
     "metadata": {},
     "output_type": "execute_result"
    }
   ],
   "source": [
    "prob = list(set(id_str.split('}')[2][1:-1].split('p')[1:]))\n",
    "prob"
   ],
   "metadata": {
    "collapsed": false,
    "ExecuteTime": {
     "end_time": "2024-03-20T22:42:50.960720Z",
     "start_time": "2024-03-20T22:42:50.940764Z"
    }
   },
   "id": "1efb3cd2a61bec59",
   "execution_count": 89
  },
  {
   "cell_type": "code",
   "outputs": [
    {
     "name": "stdout",
     "output_type": "stream",
     "text": [
      "34 34\n"
     ]
    }
   ],
   "source": [
    "prob_mod = prob.copy()\n",
    "print(len(prob_mod), len(prob))\n",
    "for i in range(len(prob)):\n",
    "    if \"'\" in prob_mod[i]:\n",
    "        prob_mod[i] = prob_mod[i].replace(\"'\", '')"
   ],
   "metadata": {
    "collapsed": false,
    "ExecuteTime": {
     "end_time": "2024-03-20T22:49:03.811909Z",
     "start_time": "2024-03-20T22:49:03.782559Z"
    }
   },
   "id": "dc52a1811236185c",
   "execution_count": 104
  },
  {
   "cell_type": "code",
   "outputs": [
    {
     "name": "stdout",
     "output_type": "stream",
     "text": [
      "49 ['(A)', '(M,J)', '(H,G)', '(G,H)', '(K,P,N,F,H,A,M,J)', '(A)', '(H,A)', '(M,P,J,H,A,K,N)', '(S,P,N,H,A,M,J)', '(S,M,N,G,J,H,A)', '(H,A)', '(M)', '(H)/', '(A)', '(K,N,P,M,J)', '(S)', '(H,A,K,P,M,N,F,J)', '(A,G,H,M,P,K,N,F,J)', '(P)', '(P,M,J,K,N)', '(H,S,G,A,K,P,M,N,F,J)', '(H,G)', '(H)', '(K,N)', '(N)', '(M,P,J,K,N)', '(K,S,P,N,H,A,M,J)', '(K,N,P,M,J)', '(S,D,G,H,A,K,N,F,J,M,P)', '(S,H,G,A,M,P,N,F,K,J)', '(H)', '(M,J)', '(H,A)', '(N,P,K,M,J)', '(M,J)', '(K,N)', '(M,J)', '(H,A)', '(M,J)', '(K,P,M,N,F,J)', '(M,P,K,N,F,J)', '(K,N)', '(K,P,M,N,F,J)', '(K,N)', '(M,J)', '(M,J)', '(K,N,F,J,M,P)', '(M,P,N,F,K,J)', '(M,J)']\n",
      "49 ['(A)', '(M,J)', '(H,G)', '(G,H)', '(K,P,N,F,H,A,M,J)', '(A)', '(H,A)', '(M,P,J,H,A,K,N)', '(S,P,N,H,A,M,J)', '(S,M,N,G,J,H,A)', '(H,A)', '(M)', '(H)/', '(A)', '(K,N,P,M,J)', '(S)', '(H,A,K,P,M,N,F,J)', '(A,G,H,M,P,K,N,F,J)', '(P)', '(P,M,J,K,N)', '(H,S,G,A,K,P,M,N,F,J)', '(H,G)', '(H)', '(K,N)', '(N)', '(M,P,J,K,N)', '(K,S,P,N,H,A,M,J)', '(K,N,P,M,J)', '(S,D,G,H,A,K,N,F,J,M,P)', '(S,H,G,A,M,P,N,F,K,J)', '(H)', '(M,J)', '(H,A)', '(N,P,K,M,J)', '(M,J)', '(K,N)', '(M,J)', '(H,A)', '(M,J)', '(K,P,M,N,F,J)', '(M,P,K,N,F,J)', '(K,N)', '(K,P,M,N,F,J)', '(K,N)', '(M,J)', '(M,J)', '(K,N,F,J,M,P)', '(M,P,N,F,K,J)', '(M,J)']\n"
     ]
    }
   ],
   "source": [
    "print(len(prob_mod), prob_mod)\n",
    "for i in range(len(prob_mod)):\n",
    "    if '|' in prob_mod[i]:\n",
    "        aux = prob_mod[i]\n",
    "        prob_mod[i] = aux.split('|')[0] + ',' + aux.split('|')[1]\n",
    "        denom = '(' + aux.split('|')[1]\n",
    "        # elem_ind = prob_mod.index(prob_mod[i])\n",
    "        # prob_mod.append(num)\n",
    "        prob_mod.append(denom)\n",
    "        # prob_mod.pop(elem_ind)\n",
    "print(len(prob_mod), prob_mod)"
   ],
   "metadata": {
    "collapsed": false,
    "ExecuteTime": {
     "end_time": "2024-03-20T22:49:06.637517Z",
     "start_time": "2024-03-20T22:49:06.618471Z"
    }
   },
   "id": "7f908b5ef7d9a1be",
   "execution_count": 106
  },
  {
   "cell_type": "code",
   "outputs": [
    {
     "data": {
      "text/plain": "['(H,S,G,A,K,P,M,N,F,J)',\n '(M,J)',\n '(N,P,K,M,J)',\n '(P,M,J,K,N)',\n '(S,M,N,G,J,H,A)',\n '(K,P,N,F,H,A,M,J)',\n '(A)',\n '(H,A)',\n '(M,P,N,F,K,J)',\n '(H,A,K,P,M,N,F,J)',\n '(H)/',\n '(S,P,N,H,A,M,J)',\n '(S,H,G,A,M,P,N,F,K,J)',\n '(K,P,M,N,F,J)',\n '(M,P,K,N,F,J)',\n '(S)',\n '(M)',\n '(P)',\n '(G,H)',\n '(S,D,G,H,A,K,N,F,J,M,P)',\n '(K,N)',\n '(N)',\n '(H)',\n '(M,P,J,K,N)',\n '(K,N,F,J,M,P)',\n '(M,P,J,H,A,K,N)',\n '(K,N,P,M,J)',\n '(K,S,P,N,H,A,M,J)',\n '(A,G,H,M,P,K,N,F,J)',\n '(H,G)']"
     },
     "execution_count": 103,
     "metadata": {},
     "output_type": "execute_result"
    }
   ],
   "source": [
    "list(set(prob_mod))"
   ],
   "metadata": {
    "collapsed": false,
    "ExecuteTime": {
     "end_time": "2024-03-20T22:46:51.876768Z",
     "start_time": "2024-03-20T22:46:51.855288Z"
    }
   },
   "id": "235c49e4728cf0f2",
   "execution_count": 103
  },
  {
   "cell_type": "code",
   "outputs": [],
   "source": [],
   "metadata": {
    "collapsed": false,
    "ExecuteTime": {
     "end_time": "2024-03-19T22:44:37.502868Z",
     "start_time": "2024-03-19T22:44:37.484439Z"
    }
   },
   "id": "8a5dfae3201be811",
   "execution_count": 47
  },
  {
   "cell_type": "code",
   "outputs": [],
   "source": [],
   "metadata": {
    "collapsed": false
   },
   "id": "d4bd87e233ebb8c1"
  }
 ],
 "metadata": {
  "kernelspec": {
   "display_name": "Python 3",
   "language": "python",
   "name": "python3"
  },
  "language_info": {
   "codemirror_mode": {
    "name": "ipython",
    "version": 2
   },
   "file_extension": ".py",
   "mimetype": "text/x-python",
   "name": "python",
   "nbconvert_exporter": "python",
   "pygments_lexer": "ipython2",
   "version": "2.7.6"
  }
 },
 "nbformat": 4,
 "nbformat_minor": 5
}
