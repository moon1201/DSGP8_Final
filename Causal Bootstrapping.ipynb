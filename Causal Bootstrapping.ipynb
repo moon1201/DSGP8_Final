{
 "cells": [
  {
   "cell_type": "code",
   "execution_count": 1,
   "id": "beeb12c2",
   "metadata": {},
   "outputs": [
    {
     "name": "stdout",
     "output_type": "stream",
     "text": [
      "Requirement already satisfied: CausalBootstrapping in v:\\anaconda\\lib\\site-packages (0.1.2)\n",
      "Requirement already satisfied: numpy in v:\\anaconda\\lib\\site-packages (from CausalBootstrapping) (1.24.3)\n",
      "Requirement already satisfied: grapl-causal in v:\\anaconda\\lib\\site-packages (from CausalBootstrapping) (1.6.1)\n",
      "Note: you may need to restart the kernel to use updated packages.\n"
     ]
    }
   ],
   "source": [
    "pip install CausalBootstrapping"
   ]
  },
  {
   "cell_type": "code",
   "execution_count": 2,
   "id": "66764a24",
   "metadata": {},
   "outputs": [
    {
     "name": "stdout",
     "output_type": "stream",
     "text": [
      "Requirement already satisfied: graphviz in v:\\anaconda\\lib\\site-packages (0.20.1)\n",
      "Note: you may need to restart the kernel to use updated packages.\n"
     ]
    }
   ],
   "source": [
    "pip install graphviz"
   ]
  },
  {
   "cell_type": "code",
   "execution_count": 3,
   "id": "2ca90858",
   "metadata": {},
   "outputs": [],
   "source": [
    "import causalBootstrapping as cb"
   ]
  },
  {
   "cell_type": "code",
   "execution_count": 4,
   "id": "77313c95",
   "metadata": {},
   "outputs": [],
   "source": [
    "from distEst_lib import MultivarContiDistributionEstimator\n",
    "import pandas as pd\n",
    "import numpy as np\n",
    "import matplotlib.pyplot as plt\n",
    "from sklearn import svm\n",
    "from sklearn.metrics import classification_report"
   ]
  },
  {
   "cell_type": "code",
   "execution_count": null,
   "id": "890ef903",
   "metadata": {
    "ExecuteTime": {
     "end_time": "2024-02-19T16:31:45.447308Z",
     "start_time": "2024-02-19T16:31:45.446373Z"
    }
   },
   "outputs": [],
   "source": [
    "causal_graph = '\"Alcohol Consumption Causal Graph\"; \\\n",
    "                D; F; S; A; P; M; N; J; K; \\\n",
    "                F -> D; \\\n",
    "                S -> D; \\\n",
    "                A -> D; \\\n",
    "                P -> D; \\\n",
    "                M -> D; \\\n",
    "                N -> D; \\\n",
    "                J -> D; \\\n",
    "                K -> D; \\\n",
    "                S -> F; \\\n",
    "                A -> F; \\\n",
    "                P -> F; \\\n",
    "                M -> F; \\\n",
    "                N -> F; \\\n",
    "                J -> F; \\\n",
    "                K -> F; \\\n",
    "                M -> J; \\\n",
    "                N -> K; '\n",
    "# Dalc(D); Famrel(F); Sex(S); Age(A); Pstatus(P); Medu(M); Fedu(N); Mjob(J); Fjob(K)"
   ]
  },
  {
   "cell_type": "code",
   "execution_count": null,
   "id": "e2238b11",
   "metadata": {
    "ExecuteTime": {
     "end_time": "2024-02-19T16:31:45.454041Z",
     "start_time": "2024-02-19T16:31:45.449139Z"
    }
   },
   "outputs": [],
   "source": [
    "weight_func_lam, weight_func_str = cb.general_cb_analysis(causal_graph = causal_graph, \n",
    "                                                          effect_var_name = 'D', \n",
    "                                                          cause_var_name = 'S',\n",
    "                                                          info_print = True)\n",
    "\n",
    "# 此代码应按如下方式输出：\n",
    "\n",
    "# Interventional prob.:p_{Y}(X)=\\sum_{U,Z,Y'}[p(X|U,Z,Y')p(Z|U,Y)p(U,Y')]\n",
    "# Causal bootstrapping weights function: [P(U,Y')P(U,Y,Z)]/N*[P(U,Y',Z)P(U,Y)]\n",
    "# Required distributions:\n",
    "# 1: P(U,Y')\n",
    "# 2: P(U,Y,Z)\n",
    "# 3: P(U,Y',Z)\n",
    "# 4: P(U,Y)"
   ]
  }
 ],
 "metadata": {
  "kernelspec": {
   "display_name": "Python 3 (ipykernel)",
   "language": "python",
   "name": "python3"
  },
  "language_info": {
   "codemirror_mode": {
    "name": "ipython",
    "version": 3
   },
   "file_extension": ".py",
   "mimetype": "text/x-python",
   "name": "python",
   "nbconvert_exporter": "python",
   "pygments_lexer": "ipython3",
   "version": "3.11.4"
  }
 },
 "nbformat": 4,
 "nbformat_minor": 5
}
