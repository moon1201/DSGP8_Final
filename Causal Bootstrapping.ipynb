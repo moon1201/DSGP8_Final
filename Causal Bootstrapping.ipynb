{
 "cells": [
  {
   "cell_type": "code",
   "execution_count": 1,
   "id": "2ca90858",
   "metadata": {
    "ExecuteTime": {
     "end_time": "2024-02-27T15:31:25.774138400Z",
     "start_time": "2024-02-27T15:31:25.282765700Z"
    }
   },
   "outputs": [
    {
     "ename": "ModuleNotFoundError",
     "evalue": "No module named 'causalBootstrapping'",
     "output_type": "error",
     "traceback": [
      "\u001B[1;31m---------------------------------------------------------------------------\u001B[0m",
      "\u001B[1;31mModuleNotFoundError\u001B[0m                       Traceback (most recent call last)",
      "Cell \u001B[1;32mIn[1], line 1\u001B[0m\n\u001B[1;32m----> 1\u001B[0m \u001B[38;5;28;01mimport\u001B[39;00m \u001B[38;5;21;01mcausalBootstrapping\u001B[39;00m \u001B[38;5;28;01mas\u001B[39;00m \u001B[38;5;21;01mcb\u001B[39;00m\n",
      "\u001B[1;31mModuleNotFoundError\u001B[0m: No module named 'causalBootstrapping'"
     ]
    }
   ],
   "source": [
    "import causalBootstrapping as cb"
   ]
  },
  {
   "cell_type": "code",
   "execution_count": 4,
   "id": "77313c95",
   "metadata": {
    "ExecuteTime": {
     "end_time": "2024-02-26T13:55:13.287539Z",
     "start_time": "2024-02-26T13:55:10.636903Z"
    }
   },
   "outputs": [],
   "source": [
    "from distEst_lib import MultivarContiDistributionEstimator\n",
    "import pandas as pd\n",
    "import numpy as np\n",
    "import matplotlib.pyplot as plt\n",
    "from sklearn import svm\n",
    "from sklearn.metrics import classification_report"
   ]
  },
  {
   "cell_type": "code",
   "execution_count": 5,
   "id": "890ef903",
   "metadata": {
    "ExecuteTime": {
     "end_time": "2024-02-26T13:55:18.299902Z",
     "start_time": "2024-02-26T13:55:18.283561Z"
    }
   },
   "outputs": [],
   "source": [
    "causal_graph = '\"Alcohol Consumption Causal Graph\"; \\\n",
    "                D; F; S; A; P; M; N; J; K; \\\n",
    "                F -> D; \\\n",
    "                S -> D; \\\n",
    "                A -> D; \\\n",
    "                P -> D; \\\n",
    "                M -> D; \\\n",
    "                N -> D; \\\n",
    "                J -> D; \\\n",
    "                K -> D; \\\n",
    "                S -> F; \\\n",
    "                A -> F; \\\n",
    "                P -> F; \\\n",
    "                M -> F; \\\n",
    "                N -> F; \\\n",
    "                J -> F; \\\n",
    "                K -> F; \\\n",
    "                M -> J; \\\n",
    "                N -> K; '\n",
    "# Dalc(D); Famrel(F); Sex(S); Age(A); Pstatus(P); Medu(M); Fedu(N); Mjob(J); Fjob(K)"
   ]
  },
  {
   "cell_type": "code",
   "execution_count": 7,
   "id": "e2238b11",
   "metadata": {
    "ExecuteTime": {
     "end_time": "2024-02-26T16:07:21.765026Z",
     "start_time": "2024-02-26T13:58:34.333151Z"
    }
   },
   "outputs": [
    {
     "name": "stdout",
     "output_type": "stream",
     "text": [
      "Interventional prob.:p_{S}(D)=\\sum_{A,K,P,M,N,J}[p(S,A,P,D,M,J|K,N)p(S,A,N,P,K|J,M)/p(S)p(S)p(A)p(P)]\n",
      "Causal bootstrapping weights function: [P(A,J,K,M,N,P,S)K(S,S')]/N*[P(S)P(S)P(A)P(P)P(K,N)P(J,M)]\n",
      "Required distributions:\n",
      "1: P(A,J,K,M,N,P,S)\n",
      "2: P(S)\n",
      "3: P(S)\n",
      "4: P(A)\n",
      "5: P(P)\n",
      "6: P(K,N)\n",
      "7: P(J,M)\n",
      "Kernel function required: K(S,S')\n"
     ]
    }
   ],
   "source": [
    "weight_func_lam, weight_func_str = cb.general_cb_analysis(causal_graph = causal_graph, \n",
    "                                                          effect_var_name = 'D', \n",
    "                                                          cause_var_name = 'S',\n",
    "                                                          info_print = True,\n",
    "                                                          idmode = \"shortest\", \n",
    "                                                          idgreedy = True)"
   ]
  },
  {
   "cell_type": "code",
   "outputs": [],
   "source": [],
   "metadata": {
    "collapsed": false,
    "ExecuteTime": {
     "end_time": "2024-02-27T13:50:22.208009Z",
     "start_time": "2024-02-27T13:50:22.188598Z"
    }
   },
   "id": "3d024871c8c10c89",
   "execution_count": 153
  },
  {
   "cell_type": "code",
   "outputs": [],
   "source": [
    "from sklearn.preprocessing import OrdinalEncoder\n",
    "import os\n",
    "from sklearn.model_selection import train_test_split\n",
    "\n",
    "# Load the dataset\n",
    "total_data = pd.read_csv(\"./student-encoded.csv\")\n",
    "total_data.drop(labels = ['goout', 'health'], axis=1)\n",
    "# Specify the desired features and target column\n",
    "desired_features = ['sex', 'age', 'Pstatus','Medu','Fedu','famrel' ,'Mjob', 'Fjob', 'Dalc','Walc']\n",
    "df = total_data[desired_features].copy()\n",
    "\n",
    "df = pd.get_dummies(df, columns=['Mjob', 'Fjob'])\n",
    "\n",
    "target_column = df['Dalc']"
   ],
   "metadata": {
    "collapsed": false,
    "ExecuteTime": {
     "end_time": "2024-02-26T21:00:17.222280Z",
     "start_time": "2024-02-26T21:00:17.182066Z"
    }
   },
   "id": "61af212912031afb",
   "execution_count": 90
  },
  {
   "cell_type": "code",
   "outputs": [
    {
     "data": {
      "text/plain": "      sex  age  Pstatus  Medu  Fedu  famrel  Dalc  Walc  Mjob_at_home  \\\n0     0.0   18      0.0     4     4       4     1     1          True   \n1     0.0   17      1.0     1     1       5     1     1          True   \n2     0.0   15      1.0     1     1       4     2     3          True   \n3     0.0   15      1.0     4     2       3     1     1         False   \n4     0.0   16      1.0     3     3       4     1     2         False   \n...   ...  ...      ...   ...   ...     ...   ...   ...           ...   \n1039  0.0   19      1.0     2     3       5     1     2         False   \n1040  0.0   18      1.0     3     1       4     1     1         False   \n1041  0.0   18      1.0     1     1       1     1     1         False   \n1042  1.0   17      1.0     3     1       2     3     4         False   \n1043  1.0   18      1.0     3     2       4     3     4         False   \n\n      Mjob_health  Mjob_other  Mjob_services  Mjob_teacher  Fjob_at_home  \\\n0           False       False          False         False         False   \n1           False       False          False         False         False   \n2           False       False          False         False         False   \n3            True       False          False         False         False   \n4           False        True          False         False         False   \n...           ...         ...            ...           ...           ...   \n1039        False       False           True         False         False   \n1040        False       False          False          True         False   \n1041        False        True          False         False         False   \n1042        False       False           True         False         False   \n1043        False       False           True         False         False   \n\n      Fjob_health  Fjob_other  Fjob_services  Fjob_teacher  \n0           False       False          False          True  \n1           False        True          False         False  \n2           False        True          False         False  \n3           False       False           True         False  \n4           False        True          False         False  \n...           ...         ...            ...           ...  \n1039        False        True          False         False  \n1040        False       False           True         False  \n1041        False        True          False         False  \n1042        False       False           True         False  \n1043        False        True          False         False  \n\n[1044 rows x 18 columns]",
      "text/html": "<div>\n<style scoped>\n    .dataframe tbody tr th:only-of-type {\n        vertical-align: middle;\n    }\n\n    .dataframe tbody tr th {\n        vertical-align: top;\n    }\n\n    .dataframe thead th {\n        text-align: right;\n    }\n</style>\n<table border=\"1\" class=\"dataframe\">\n  <thead>\n    <tr style=\"text-align: right;\">\n      <th></th>\n      <th>sex</th>\n      <th>age</th>\n      <th>Pstatus</th>\n      <th>Medu</th>\n      <th>Fedu</th>\n      <th>famrel</th>\n      <th>Dalc</th>\n      <th>Walc</th>\n      <th>Mjob_at_home</th>\n      <th>Mjob_health</th>\n      <th>Mjob_other</th>\n      <th>Mjob_services</th>\n      <th>Mjob_teacher</th>\n      <th>Fjob_at_home</th>\n      <th>Fjob_health</th>\n      <th>Fjob_other</th>\n      <th>Fjob_services</th>\n      <th>Fjob_teacher</th>\n    </tr>\n  </thead>\n  <tbody>\n    <tr>\n      <th>0</th>\n      <td>0.0</td>\n      <td>18</td>\n      <td>0.0</td>\n      <td>4</td>\n      <td>4</td>\n      <td>4</td>\n      <td>1</td>\n      <td>1</td>\n      <td>True</td>\n      <td>False</td>\n      <td>False</td>\n      <td>False</td>\n      <td>False</td>\n      <td>False</td>\n      <td>False</td>\n      <td>False</td>\n      <td>False</td>\n      <td>True</td>\n    </tr>\n    <tr>\n      <th>1</th>\n      <td>0.0</td>\n      <td>17</td>\n      <td>1.0</td>\n      <td>1</td>\n      <td>1</td>\n      <td>5</td>\n      <td>1</td>\n      <td>1</td>\n      <td>True</td>\n      <td>False</td>\n      <td>False</td>\n      <td>False</td>\n      <td>False</td>\n      <td>False</td>\n      <td>False</td>\n      <td>True</td>\n      <td>False</td>\n      <td>False</td>\n    </tr>\n    <tr>\n      <th>2</th>\n      <td>0.0</td>\n      <td>15</td>\n      <td>1.0</td>\n      <td>1</td>\n      <td>1</td>\n      <td>4</td>\n      <td>2</td>\n      <td>3</td>\n      <td>True</td>\n      <td>False</td>\n      <td>False</td>\n      <td>False</td>\n      <td>False</td>\n      <td>False</td>\n      <td>False</td>\n      <td>True</td>\n      <td>False</td>\n      <td>False</td>\n    </tr>\n    <tr>\n      <th>3</th>\n      <td>0.0</td>\n      <td>15</td>\n      <td>1.0</td>\n      <td>4</td>\n      <td>2</td>\n      <td>3</td>\n      <td>1</td>\n      <td>1</td>\n      <td>False</td>\n      <td>True</td>\n      <td>False</td>\n      <td>False</td>\n      <td>False</td>\n      <td>False</td>\n      <td>False</td>\n      <td>False</td>\n      <td>True</td>\n      <td>False</td>\n    </tr>\n    <tr>\n      <th>4</th>\n      <td>0.0</td>\n      <td>16</td>\n      <td>1.0</td>\n      <td>3</td>\n      <td>3</td>\n      <td>4</td>\n      <td>1</td>\n      <td>2</td>\n      <td>False</td>\n      <td>False</td>\n      <td>True</td>\n      <td>False</td>\n      <td>False</td>\n      <td>False</td>\n      <td>False</td>\n      <td>True</td>\n      <td>False</td>\n      <td>False</td>\n    </tr>\n    <tr>\n      <th>...</th>\n      <td>...</td>\n      <td>...</td>\n      <td>...</td>\n      <td>...</td>\n      <td>...</td>\n      <td>...</td>\n      <td>...</td>\n      <td>...</td>\n      <td>...</td>\n      <td>...</td>\n      <td>...</td>\n      <td>...</td>\n      <td>...</td>\n      <td>...</td>\n      <td>...</td>\n      <td>...</td>\n      <td>...</td>\n      <td>...</td>\n    </tr>\n    <tr>\n      <th>1039</th>\n      <td>0.0</td>\n      <td>19</td>\n      <td>1.0</td>\n      <td>2</td>\n      <td>3</td>\n      <td>5</td>\n      <td>1</td>\n      <td>2</td>\n      <td>False</td>\n      <td>False</td>\n      <td>False</td>\n      <td>True</td>\n      <td>False</td>\n      <td>False</td>\n      <td>False</td>\n      <td>True</td>\n      <td>False</td>\n      <td>False</td>\n    </tr>\n    <tr>\n      <th>1040</th>\n      <td>0.0</td>\n      <td>18</td>\n      <td>1.0</td>\n      <td>3</td>\n      <td>1</td>\n      <td>4</td>\n      <td>1</td>\n      <td>1</td>\n      <td>False</td>\n      <td>False</td>\n      <td>False</td>\n      <td>False</td>\n      <td>True</td>\n      <td>False</td>\n      <td>False</td>\n      <td>False</td>\n      <td>True</td>\n      <td>False</td>\n    </tr>\n    <tr>\n      <th>1041</th>\n      <td>0.0</td>\n      <td>18</td>\n      <td>1.0</td>\n      <td>1</td>\n      <td>1</td>\n      <td>1</td>\n      <td>1</td>\n      <td>1</td>\n      <td>False</td>\n      <td>False</td>\n      <td>True</td>\n      <td>False</td>\n      <td>False</td>\n      <td>False</td>\n      <td>False</td>\n      <td>True</td>\n      <td>False</td>\n      <td>False</td>\n    </tr>\n    <tr>\n      <th>1042</th>\n      <td>1.0</td>\n      <td>17</td>\n      <td>1.0</td>\n      <td>3</td>\n      <td>1</td>\n      <td>2</td>\n      <td>3</td>\n      <td>4</td>\n      <td>False</td>\n      <td>False</td>\n      <td>False</td>\n      <td>True</td>\n      <td>False</td>\n      <td>False</td>\n      <td>False</td>\n      <td>False</td>\n      <td>True</td>\n      <td>False</td>\n    </tr>\n    <tr>\n      <th>1043</th>\n      <td>1.0</td>\n      <td>18</td>\n      <td>1.0</td>\n      <td>3</td>\n      <td>2</td>\n      <td>4</td>\n      <td>3</td>\n      <td>4</td>\n      <td>False</td>\n      <td>False</td>\n      <td>False</td>\n      <td>True</td>\n      <td>False</td>\n      <td>False</td>\n      <td>False</td>\n      <td>True</td>\n      <td>False</td>\n      <td>False</td>\n    </tr>\n  </tbody>\n</table>\n<p>1044 rows × 18 columns</p>\n</div>"
     },
     "execution_count": 91,
     "metadata": {},
     "output_type": "execute_result"
    }
   ],
   "source": [
    "df"
   ],
   "metadata": {
    "collapsed": false,
    "ExecuteTime": {
     "end_time": "2024-02-26T21:00:17.731182Z",
     "start_time": "2024-02-26T21:00:17.701446Z"
    }
   },
   "id": "780e0f2b9a8eabe9",
   "execution_count": 91
  },
  {
   "cell_type": "code",
   "execution_count": 92,
   "id": "e928c0cb",
   "metadata": {
    "ExecuteTime": {
     "end_time": "2024-02-26T21:00:18.746284Z",
     "start_time": "2024-02-26T21:00:18.638605Z"
    }
   },
   "outputs": [
    {
     "name": "stdout",
     "output_type": "stream",
     "text": [
      "Feature: sex\n",
      "Training set size: 835\n",
      "Testing set size: 209\n",
      "-----------\n",
      "Feature: age\n",
      "Training set size: 835\n",
      "Testing set size: 209\n",
      "-----------\n",
      "Feature: Pstatus\n",
      "Training set size: 835\n",
      "Testing set size: 209\n",
      "-----------\n",
      "Feature: Medu\n",
      "Training set size: 835\n",
      "Testing set size: 209\n",
      "-----------\n",
      "Feature: Fedu\n",
      "Training set size: 835\n",
      "Testing set size: 209\n",
      "-----------\n",
      "Feature: famrel\n",
      "Training set size: 835\n",
      "Testing set size: 209\n",
      "-----------\n",
      "Feature: Dalc\n",
      "Training set size: 835\n",
      "Testing set size: 209\n",
      "-----------\n",
      "Feature: Walc\n",
      "Training set size: 835\n",
      "Testing set size: 209\n",
      "-----------\n",
      "Feature: Mjob_at_home\n",
      "Training set size: 835\n",
      "Testing set size: 209\n",
      "-----------\n",
      "Feature: Mjob_health\n",
      "Training set size: 835\n",
      "Testing set size: 209\n",
      "-----------\n",
      "Feature: Mjob_other\n",
      "Training set size: 835\n",
      "Testing set size: 209\n",
      "-----------\n",
      "Feature: Mjob_services\n",
      "Training set size: 835\n",
      "Testing set size: 209\n",
      "-----------\n",
      "Feature: Mjob_teacher\n",
      "Training set size: 835\n",
      "Testing set size: 209\n",
      "-----------\n",
      "Feature: Fjob_at_home\n",
      "Training set size: 835\n",
      "Testing set size: 209\n",
      "-----------\n",
      "Feature: Fjob_health\n",
      "Training set size: 835\n",
      "Testing set size: 209\n",
      "-----------\n",
      "Feature: Fjob_other\n",
      "Training set size: 835\n",
      "Testing set size: 209\n",
      "-----------\n",
      "Feature: Fjob_services\n",
      "Training set size: 835\n",
      "Testing set size: 209\n",
      "-----------\n",
      "Feature: Fjob_teacher\n",
      "Training set size: 835\n",
      "Testing set size: 209\n",
      "-----------\n"
     ]
    }
   ],
   "source": [
    "# Create a file to save the split data\n",
    "output_dir = \"./split_data/\"\n",
    "if not os.path.exists(output_dir):\n",
    "    os.makedirs(output_dir)\n",
    "\n",
    "# Iterate over each feature and split the dataset\n",
    "for column in df.columns:\n",
    "    # Get the data for the current feature\n",
    "    feature_data = df[[column]]\n",
    "    # Split the dataset into training and testing sets\n",
    "    X_train, X_test, y_train, y_test = train_test_split(feature_data, target_column, test_size=0.2, random_state=42)\n",
    "    \n",
    "    # Save the split training and testing sets as CSV files\n",
    "    train_filename = os.path.join(output_dir, f\"{column}_train.csv\")\n",
    "    test_filename = os.path.join(output_dir, f\"{column}_test.csv\")\n",
    "    X_train.to_csv(train_filename, index=False)\n",
    "    X_test.to_csv(test_filename, index=False)\n",
    "    \n",
    "    # Print the sizes of training and testing sets for each feature\n",
    "    print(f\"Feature: {column}\")\n",
    "    print(f\"Training set size: {len(X_train)}\")\n",
    "    print(f\"Testing set size: {len(X_test)}\")\n",
    "    print(\"-----------\")"
   ]
  },
  {
   "cell_type": "code",
   "outputs": [
    {
     "data": {
      "text/plain": "      Mjob_at_home  Mjob_health  Mjob_other  Mjob_services  Mjob_teacher\n0             True        False       False          False         False\n1             True        False       False          False         False\n2             True        False       False          False         False\n3            False         True       False          False         False\n4            False        False        True          False         False\n...            ...          ...         ...            ...           ...\n1039         False        False       False           True         False\n1040         False        False       False          False          True\n1041         False        False        True          False         False\n1042         False        False       False           True         False\n1043         False        False       False           True         False\n\n[1044 rows x 5 columns]",
      "text/html": "<div>\n<style scoped>\n    .dataframe tbody tr th:only-of-type {\n        vertical-align: middle;\n    }\n\n    .dataframe tbody tr th {\n        vertical-align: top;\n    }\n\n    .dataframe thead th {\n        text-align: right;\n    }\n</style>\n<table border=\"1\" class=\"dataframe\">\n  <thead>\n    <tr style=\"text-align: right;\">\n      <th></th>\n      <th>Mjob_at_home</th>\n      <th>Mjob_health</th>\n      <th>Mjob_other</th>\n      <th>Mjob_services</th>\n      <th>Mjob_teacher</th>\n    </tr>\n  </thead>\n  <tbody>\n    <tr>\n      <th>0</th>\n      <td>True</td>\n      <td>False</td>\n      <td>False</td>\n      <td>False</td>\n      <td>False</td>\n    </tr>\n    <tr>\n      <th>1</th>\n      <td>True</td>\n      <td>False</td>\n      <td>False</td>\n      <td>False</td>\n      <td>False</td>\n    </tr>\n    <tr>\n      <th>2</th>\n      <td>True</td>\n      <td>False</td>\n      <td>False</td>\n      <td>False</td>\n      <td>False</td>\n    </tr>\n    <tr>\n      <th>3</th>\n      <td>False</td>\n      <td>True</td>\n      <td>False</td>\n      <td>False</td>\n      <td>False</td>\n    </tr>\n    <tr>\n      <th>4</th>\n      <td>False</td>\n      <td>False</td>\n      <td>True</td>\n      <td>False</td>\n      <td>False</td>\n    </tr>\n    <tr>\n      <th>...</th>\n      <td>...</td>\n      <td>...</td>\n      <td>...</td>\n      <td>...</td>\n      <td>...</td>\n    </tr>\n    <tr>\n      <th>1039</th>\n      <td>False</td>\n      <td>False</td>\n      <td>False</td>\n      <td>True</td>\n      <td>False</td>\n    </tr>\n    <tr>\n      <th>1040</th>\n      <td>False</td>\n      <td>False</td>\n      <td>False</td>\n      <td>False</td>\n      <td>True</td>\n    </tr>\n    <tr>\n      <th>1041</th>\n      <td>False</td>\n      <td>False</td>\n      <td>True</td>\n      <td>False</td>\n      <td>False</td>\n    </tr>\n    <tr>\n      <th>1042</th>\n      <td>False</td>\n      <td>False</td>\n      <td>False</td>\n      <td>True</td>\n      <td>False</td>\n    </tr>\n    <tr>\n      <th>1043</th>\n      <td>False</td>\n      <td>False</td>\n      <td>False</td>\n      <td>True</td>\n      <td>False</td>\n    </tr>\n  </tbody>\n</table>\n<p>1044 rows × 5 columns</p>\n</div>"
     },
     "execution_count": 93,
     "metadata": {},
     "output_type": "execute_result"
    }
   ],
   "source": [
    "total_data = df\n",
    "total_data[['Mjob_at_home', 'Mjob_health', 'Mjob_other', 'Mjob_services', 'Mjob_teacher']]"
   ],
   "metadata": {
    "collapsed": false,
    "ExecuteTime": {
     "end_time": "2024-02-26T21:00:20.080955Z",
     "start_time": "2024-02-26T21:00:20.047797Z"
    }
   },
   "id": "8574886c51d5eeeb",
   "execution_count": 93
  },
  {
   "cell_type": "code",
   "execution_count": 143,
   "id": "fa574523",
   "metadata": {
    "ExecuteTime": {
     "end_time": "2024-02-26T21:37:29.365523Z",
     "start_time": "2024-02-26T21:37:29.309042Z"
    }
   },
   "outputs": [],
   "source": [
    "# Dalc(D); Famrel(F); Sex(S); Age(A); Pstatus(P); Medu(M); Fedu(N); Mjob(J); Fjob(K)\n",
    "# Read demo data\n",
    "testdata_dir = \"./split_data/\"\n",
    "D_train = pd.read_csv(testdata_dir + \"Dalc_train.csv\")\n",
    "F_train = pd.read_csv(testdata_dir + \"famrel_train.csv\")\n",
    "S_train = pd.read_csv(testdata_dir + \"sex_train.csv\")\n",
    "A_train = pd.read_csv(testdata_dir + \"age_train.csv\")\n",
    "P_train = pd.read_csv(testdata_dir + \"Pstatus_train.csv\")\n",
    "M_train = pd.read_csv(testdata_dir + \"Medu_train.csv\")\n",
    "N_train = pd.read_csv(testdata_dir + \"Fedu_train.csv\")\n",
    "#J_train = pd.read_csv(testdata_dir + \"Mjob_train.csv\")\n",
    "#K_train = pd.read_csv(testdata_dir + \"Fjob_train.csv\")\n",
    "#D_train = total_data['Dalc']\n",
    "#F_train = total_data['famrel']\n",
    "#S_train = total_data['sex']\n",
    "#A_train = total_data['age']\n",
    "#P_train = total_data['Pstatus']\n",
    "#M_train = total_data['Medu']\n",
    "#N_train = total_data['Fedu']\n",
    "J_train = total_data[['Mjob_at_home', 'Mjob_health', 'Mjob_other', 'Mjob_services', 'Mjob_teacher']]\n",
    "K_train = total_data[['Fjob_at_home', 'Fjob_health', 'Fjob_other', 'Fjob_services', 'Fjob_teacher']]\n",
    "'''\n",
    "Jathome_train = total_data['Mjob_at_home']\n",
    "Jhealth_train = total_data['Mjob_health']\n",
    "Jother_train = total_data['Mjob_other']\n",
    "Jservices_train = total_data['Mjob_services']\n",
    "Jteacher_train = total_data['Mjob_teacher']\n",
    "Kathome_train = total_data['Fjob_at_home']\n",
    "Khealth_train = total_data['Fjob_health']\n",
    "Kother_train = total_data['Fjob_other']\n",
    "Kservices_train = total_data['Fjob_services']\n",
    "Kteacher_train = total_data['Fjob_teacher']\n",
    "'''\n",
    "\n",
    "# Reform the data to the acceptable format for the causalbootstrapping interfaces\n",
    "D_train = np.array(D_train)\n",
    "F_train = np.array(F_train)\n",
    "S_train = np.array(S_train)\n",
    "A_train = np.array(A_train)\n",
    "P_train = np.array(P_train)\n",
    "M_train = np.array(M_train)\n",
    "N_train = np.array(N_train)\n",
    "J_train = np.array(J_train)\n",
    "K_train = np.array(K_train)\n",
    "\n",
    "# do we have to encode True False to binary values?\n",
    "from sklearn.preprocessing import OrdinalEncoder\n",
    "encoder = OrdinalEncoder()\n",
    "J_train = encoder.fit_transform(J_train)\n",
    "K_train = encoder.fit_transform(K_train)\n",
    "'''\n",
    "Jathome_train = np.array(Jathome_train)\n",
    "Jhealth_train = np.array(Jhealth_train)\n",
    "Jother_train = np.array(Jother_train)\n",
    "Jservices_train = np.array(Jservices_train)\n",
    "Jteacher_train = np.array(Jteacher_train)\n",
    "Kathome_train = np.array(Kathome_train)\n",
    "Khealth_train = np.array(Khealth_train)\n",
    "Kother_train = np.array(Kother_train)\n",
    "Kservices_train = np.array(Kservices_train)\n",
    "Kteacher_train = np.array(Kteacher_train)\n",
    "'''\n",
    "data = {\"D'\": D_train,\n",
    "        \"F\": F_train,\n",
    "        \"S\": S_train,\n",
    "        \"A\": A_train,\n",
    "        \"P\": P_train,\n",
    "        \"M\": M_train,\n",
    "        \"N\": N_train,\n",
    "        \"J\": J_train,\n",
    "        \"K\": K_train}\n"
   ]
  },
  {
   "cell_type": "code",
   "outputs": [],
   "source": [],
   "metadata": {
    "collapsed": false,
    "ExecuteTime": {
     "end_time": "2024-02-26T21:37:36.365277Z",
     "start_time": "2024-02-26T21:37:36.351759Z"
    }
   },
   "id": "8ff9bd2f6c23e6f1",
   "execution_count": 144
  },
  {
   "cell_type": "code",
   "execution_count": 106,
   "id": "8e0b8585",
   "metadata": {
    "ExecuteTime": {
     "end_time": "2024-02-26T21:01:43.362861Z",
     "start_time": "2024-02-26T21:01:43.355364Z"
    }
   },
   "outputs": [],
   "source": [
    "# Interventional prob.:p_{S}(D)=\\sum_{N,P,K,A,J,M}[p(M,P,A,J,S,D|N,K)p(N,P,K,A,S|J,M)/p(S)p(P)p(S)p(A)]\n",
    "# Causal bootstrapping weights function: [P(A,J,K,M,N,P,S)K(S,S')]/N*[P(S)P(P)P(K,N)P(S)P(A)P(J,M)]\n",
    "# Required distributions:\n",
    "# 1: P(A,J,K,M,N,P,S)\n",
    "# 2: P(S)\n",
    "# 3: P(P)\n",
    "# 4: P(K,N)\n",
    "# 5: P(S)\n",
    "# 6: P(A)\n",
    "# 7: P(J,M)\n",
    "# Kernel function required: K(S,S')"
   ]
  },
  {
   "cell_type": "code",
   "execution_count": 174,
   "id": "d6202737",
   "metadata": {
    "ExecuteTime": {
     "end_time": "2024-02-27T13:59:14.015639Z",
     "start_time": "2024-02-27T13:59:13.989593Z"
    }
   },
   "outputs": [],
   "source": [
    "\n",
    "# Set number of the bins for histogram becasue all variables follow discrete distributions.\n",
    "n_bins_sfd = [3,0,0,0,0,0,0,0,0,0,0,0,0,0]\n",
    "n_bins_sf = [0,0]\n",
    "\n",
    "data_ajkmnp = np.concatenate((A_train, J_train, K_train, M_train, N_train, P_train), axis=1)\n",
    "data_kn = np.concatenate((K_train, N_train), axis=1)\n",
    "data_jm = np.concatenate((J_train, N_train))\n",
    "\n",
    "\n",
    "\n",
    "data_sdf = np.concatenate((S_train, D_train, F_train), axis = 1)\n",
    "data_sd = np.concatenate((S_train, D_train), axis = 1)\n",
    "\n",
    "dist_estimator_sfd = MultivarContiDistributionEstimator(data_fit=data_sdf, n_bins = n_bins_sfd)\n",
    "pdf_sfd, psfd = dist_estimator_sfd.fit_histogram()\n",
    "dist_estimator_sf = MultivarContiDistributionEstimator(data_fit=data_sd, n_bins = n_bins_sf)\n",
    "pdf_sf, psf = dist_estimator_sf.fit_histogram()\n",
    "\n",
    "\n",
    "dist_map = {tuple(sorted([\"A\", \"J\", \"K\", \"M\", \"N\", \"P\"])): lambda \n",
    "            tuple(sorted([\"S\",\"D\",\"F\"])): lambda S, D, F: pdf_sfd([S, D, F]),\n",
    "            tuple(sorted([\"S\",\"D'\",\"F\"])): lambda S,D_prime, F: pdf_sfd([S, D_prime, F]),\n",
    "            tuple(sorted([\"S\",\"D'\"])): lambda S, D_prime: pdf_sf([S,D_prime]),\n",
    "            tuple(sorted([\"S\",\"D\"])): lambda S, D: pdf_sf([S, D])}\n",
    "\n"
   ]
  },
  {
   "cell_type": "code",
   "outputs": [
    {
     "data": {
      "text/plain": "array([[[0.01437126, 0.01556886, 0.06826347, 0.22155689, 0.11856287],\n        [0.00239521, 0.00718563, 0.01916168, 0.04550898, 0.01197605],\n        [0.0011976 , 0.00239521, 0.00239521, 0.00838323, 0.00359281],\n        [0.00239521, 0.        , 0.00479042, 0.0011976 , 0.0011976 ],\n        [0.        , 0.        , 0.        , 0.0011976 , 0.00239521]],\n\n       [[0.        , 0.00838323, 0.03592814, 0.11377246, 0.09341317],\n        [0.0011976 , 0.00598802, 0.0251497 , 0.05269461, 0.01676647],\n        [0.00359281, 0.00479042, 0.00359281, 0.0239521 , 0.02035928],\n        [0.        , 0.        , 0.00239521, 0.00838323, 0.00598802],\n        [0.0011976 , 0.0011976 , 0.00239521, 0.00598802, 0.00718563]]])"
     },
     "execution_count": 179,
     "metadata": {},
     "output_type": "execute_result"
    }
   ],
   "source": [
    "psfd"
   ],
   "metadata": {
    "collapsed": false,
    "ExecuteTime": {
     "end_time": "2024-02-27T14:01:27.767927Z",
     "start_time": "2024-02-27T14:01:27.742096Z"
    }
   },
   "id": "6078a94538824d47",
   "execution_count": 179
  },
  {
   "cell_type": "code",
   "outputs": [
    {
     "data": {
      "text/plain": "dict_keys([('D', 'F', 'S'), (\"D'\", 'F', 'S'), (\"D'\", 'S'), ('D', 'S')])"
     },
     "execution_count": 176,
     "metadata": {},
     "output_type": "execute_result"
    }
   ],
   "source": [
    "dist_map.keys()"
   ],
   "metadata": {
    "collapsed": false,
    "ExecuteTime": {
     "end_time": "2024-02-27T13:59:15.986055Z",
     "start_time": "2024-02-27T13:59:15.965001Z"
    }
   },
   "id": "1e900a0c2549fa43",
   "execution_count": 176
  },
  {
   "cell_type": "code",
   "outputs": [
    {
     "ename": "KeyError",
     "evalue": "('A', 'J', 'K', 'M', 'N', 'P', 'S')",
     "output_type": "error",
     "traceback": [
      "\u001B[0;31m---------------------------------------------------------------------------\u001B[0m",
      "\u001B[0;31mKeyError\u001B[0m                                  Traceback (most recent call last)",
      "Cell \u001B[0;32mIn[183], line 1\u001B[0m\n\u001B[0;32m----> 1\u001B[0m cb_data \u001B[38;5;241m=\u001B[39m \u001B[43mcb\u001B[49m\u001B[38;5;241;43m.\u001B[39;49m\u001B[43mgeneral_causal_bootstrapping_simple\u001B[49m\u001B[43m(\u001B[49m\u001B[43mweight_func_lam\u001B[49m\u001B[43m \u001B[49m\u001B[38;5;241;43m=\u001B[39;49m\u001B[43m \u001B[49m\u001B[43mweight_func_lam\u001B[49m\u001B[43m,\u001B[49m\u001B[43m \u001B[49m\n\u001B[1;32m      2\u001B[0m \u001B[43m                                                 \u001B[49m\u001B[43mdist_map\u001B[49m\u001B[43m \u001B[49m\u001B[38;5;241;43m=\u001B[39;49m\u001B[43m \u001B[49m\u001B[43mdist_map\u001B[49m\u001B[43m,\u001B[49m\u001B[43m \u001B[49m\u001B[43mdata\u001B[49m\u001B[43m \u001B[49m\u001B[38;5;241;43m=\u001B[39;49m\u001B[43m \u001B[49m\u001B[43mdata\u001B[49m\u001B[43m,\u001B[49m\u001B[43m \u001B[49m\n\u001B[1;32m      3\u001B[0m \u001B[43m                                                 \u001B[49m\u001B[43mintv_var_name\u001B[49m\u001B[43m \u001B[49m\u001B[38;5;241;43m=\u001B[39;49m\u001B[43m \u001B[49m\u001B[38;5;124;43m'\u001B[39;49m\u001B[38;5;124;43mD\u001B[39;49m\u001B[38;5;124;43m'\u001B[39;49m\u001B[43m,\u001B[49m\u001B[43m \u001B[49m\u001B[43mkernel\u001B[49m\u001B[43m \u001B[49m\u001B[38;5;241;43m=\u001B[39;49m\u001B[43m \u001B[49m\u001B[38;5;28;43;01mNone\u001B[39;49;00m\u001B[43m)\u001B[49m\n",
      "File \u001B[0;32m~/Desktop/DSGP8/venv/lib/python3.11/site-packages/causalBootstrapping.py:336\u001B[0m, in \u001B[0;36mgeneral_causal_bootstrapping_simple\u001B[0;34m(weight_func_lam, dist_map, data, intv_var_name, kernel, mode)\u001B[0m\n\u001B[1;32m    333\u001B[0m \u001B[38;5;28;01mif\u001B[39;00m kernel \u001B[38;5;129;01mis\u001B[39;00m \u001B[38;5;129;01mnot\u001B[39;00m \u001B[38;5;28;01mNone\u001B[39;00m:\n\u001B[1;32m    334\u001B[0m     intv_var_name \u001B[38;5;241m=\u001B[39m [param \u001B[38;5;28;01mfor\u001B[39;00m param \u001B[38;5;129;01min\u001B[39;00m inspect\u001B[38;5;241m.\u001B[39msignature(kernel)\u001B[38;5;241m.\u001B[39mparameters \u001B[38;5;28;01mif\u001B[39;00m param \u001B[38;5;241m!=\u001B[39m intv_var_name_in_data][\u001B[38;5;241m0\u001B[39m]\n\u001B[0;32m--> 336\u001B[0m w_func \u001B[38;5;241m=\u001B[39m \u001B[43mweight_func_lam\u001B[49m\u001B[43m(\u001B[49m\u001B[43mdist_map\u001B[49m\u001B[43m \u001B[49m\u001B[38;5;241;43m=\u001B[39;49m\u001B[43m \u001B[49m\u001B[43mdist_map\u001B[49m\u001B[43m,\u001B[49m\u001B[43m \u001B[49m\u001B[43mN\u001B[49m\u001B[43m \u001B[49m\u001B[38;5;241;43m=\u001B[39;49m\u001B[43m \u001B[49m\u001B[43mN\u001B[49m\u001B[43m,\u001B[49m\u001B[43m \u001B[49m\u001B[43mkernel\u001B[49m\u001B[43m \u001B[49m\u001B[38;5;241;43m=\u001B[39;49m\u001B[43m \u001B[49m\u001B[43mkernel\u001B[49m\u001B[43m)\u001B[49m\n\u001B[1;32m    337\u001B[0m cause_unique \u001B[38;5;241m=\u001B[39m \u001B[38;5;28mset\u001B[39m(cause_data\u001B[38;5;241m.\u001B[39mreshape(\u001B[38;5;241m-\u001B[39m\u001B[38;5;241m1\u001B[39m))\n\u001B[1;32m    338\u001B[0m weights \u001B[38;5;241m=\u001B[39m np\u001B[38;5;241m.\u001B[39mzeros((N, \u001B[38;5;28mlen\u001B[39m(cause_unique)))\n",
      "File \u001B[0;32m~/Desktop/DSGP8/venv/lib/python3.11/site-packages/causalBootstrapping.py:272\u001B[0m, in \u001B[0;36mgeneral_cb_analysis.<locals>.<lambda>\u001B[0;34m(dist_map, N, kernel)\u001B[0m\n\u001B[1;32m    269\u001B[0m         best_id_str \u001B[38;5;241m=\u001B[39m id_str_all[i]\n\u001B[1;32m    270\u001B[0m         best_id_eqn \u001B[38;5;241m=\u001B[39m id_eqn\n\u001B[0;32m--> 272\u001B[0m weight_func_lam \u001B[38;5;241m=\u001B[39m \u001B[38;5;28;01mlambda\u001B[39;00m dist_map, N, kernel: \u001B[43mweight_func\u001B[49m\u001B[43m(\u001B[49m\u001B[43mbest_id_eqn\u001B[49m\u001B[43m,\u001B[49m\u001B[43m \u001B[49m\u001B[43mdist_map\u001B[49m\u001B[43m,\u001B[49m\u001B[43m \u001B[49m\u001B[43mN\u001B[49m\u001B[43m,\u001B[49m\u001B[43m \u001B[49m\u001B[43mkernel\u001B[49m\u001B[43m)\u001B[49m        \n\u001B[1;32m    274\u001B[0m wanted_dist \u001B[38;5;241m=\u001B[39m []\n\u001B[1;32m    275\u001B[0m w_nom_str \u001B[38;5;241m=\u001B[39m \u001B[38;5;124m\"\u001B[39m\u001B[38;5;124m\"\u001B[39m\n",
      "File \u001B[0;32m~/Desktop/DSGP8/venv/lib/python3.11/site-packages/causalBootstrapping.py:88\u001B[0m, in \u001B[0;36mweight_func\u001B[0;34m(intv_prob, dist_map, N, kernel)\u001B[0m\n\u001B[1;32m     86\u001B[0m     w_nom\u001B[38;5;241m.\u001B[39mremove(pa_var)\n\u001B[1;32m     87\u001B[0m     cause_kernel_flag \u001B[38;5;241m=\u001B[39m \u001B[38;5;28;01mTrue\u001B[39;00m\n\u001B[0;32m---> 88\u001B[0m     funcs \u001B[38;5;241m=\u001B[39m \u001B[43m[\u001B[49m\u001B[43mdist_map\u001B[49m\u001B[43m[\u001B[49m\u001B[38;5;28;43mtuple\u001B[39;49m\u001B[43m(\u001B[49m\u001B[43mw_nom_i\u001B[49m\u001B[43m)\u001B[49m\u001B[43m]\u001B[49m\u001B[43m \u001B[49m\u001B[38;5;28;43;01mfor\u001B[39;49;00m\u001B[43m \u001B[49m\u001B[43mw_nom_i\u001B[49m\u001B[43m \u001B[49m\u001B[38;5;129;43;01min\u001B[39;49;00m\u001B[43m \u001B[49m\u001B[43mw_nom\u001B[49m\u001B[43m]\u001B[49m \u001B[38;5;241m+\u001B[39m [dist_map[\u001B[38;5;28mtuple\u001B[39m(w_denom_i)] \u001B[38;5;28;01mfor\u001B[39;00m w_denom_i \u001B[38;5;129;01min\u001B[39;00m w_denom] \u001B[38;5;241m+\u001B[39m [kernel]\n\u001B[1;32m     89\u001B[0m \u001B[38;5;28;01melse\u001B[39;00m:\n\u001B[1;32m     90\u001B[0m     pa_var \u001B[38;5;241m=\u001B[39m \u001B[38;5;28mset\u001B[39m(pa_var)\n",
      "File \u001B[0;32m~/Desktop/DSGP8/venv/lib/python3.11/site-packages/causalBootstrapping.py:88\u001B[0m, in \u001B[0;36m<listcomp>\u001B[0;34m(.0)\u001B[0m\n\u001B[1;32m     86\u001B[0m     w_nom\u001B[38;5;241m.\u001B[39mremove(pa_var)\n\u001B[1;32m     87\u001B[0m     cause_kernel_flag \u001B[38;5;241m=\u001B[39m \u001B[38;5;28;01mTrue\u001B[39;00m\n\u001B[0;32m---> 88\u001B[0m     funcs \u001B[38;5;241m=\u001B[39m [\u001B[43mdist_map\u001B[49m\u001B[43m[\u001B[49m\u001B[38;5;28;43mtuple\u001B[39;49m\u001B[43m(\u001B[49m\u001B[43mw_nom_i\u001B[49m\u001B[43m)\u001B[49m\u001B[43m]\u001B[49m \u001B[38;5;28;01mfor\u001B[39;00m w_nom_i \u001B[38;5;129;01min\u001B[39;00m w_nom] \u001B[38;5;241m+\u001B[39m [dist_map[\u001B[38;5;28mtuple\u001B[39m(w_denom_i)] \u001B[38;5;28;01mfor\u001B[39;00m w_denom_i \u001B[38;5;129;01min\u001B[39;00m w_denom] \u001B[38;5;241m+\u001B[39m [kernel]\n\u001B[1;32m     89\u001B[0m \u001B[38;5;28;01melse\u001B[39;00m:\n\u001B[1;32m     90\u001B[0m     pa_var \u001B[38;5;241m=\u001B[39m \u001B[38;5;28mset\u001B[39m(pa_var)\n",
      "\u001B[0;31mKeyError\u001B[0m: ('A', 'J', 'K', 'M', 'N', 'P', 'S')"
     ]
    }
   ],
   "source": [
    "cb_data = cb.general_causal_bootstrapping_simple(weight_func_lam = weight_func_lam, \n",
    "                                                 dist_map = dist_map, data = data, \n",
    "                                                 intv_var_name = 'D', kernel = None)"
   ],
   "metadata": {
    "collapsed": false,
    "ExecuteTime": {
     "end_time": "2024-02-27T14:24:51.491443Z",
     "start_time": "2024-02-27T14:24:51.159284Z"
    }
   },
   "id": "893a73ced2097e2c",
   "execution_count": 183
  },
  {
   "cell_type": "code",
   "outputs": [],
   "source": [],
   "metadata": {
    "collapsed": false
   },
   "id": "38c8098cdec3da3e"
  }
 ],
 "metadata": {
  "kernelspec": {
   "display_name": "Python 3 (ipykernel)",
   "language": "python",
   "name": "python3"
  },
  "language_info": {
   "codemirror_mode": {
    "name": "ipython",
    "version": 3
   },
   "file_extension": ".py",
   "mimetype": "text/x-python",
   "name": "python",
   "nbconvert_exporter": "python",
   "pygments_lexer": "ipython3",
   "version": "3.11.4"
  }
 },
 "nbformat": 4,
 "nbformat_minor": 5
}
