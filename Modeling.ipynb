{
 "cells": [
  {
   "cell_type": "markdown",
   "source": [
    "# Preprocessing data"
   ],
   "metadata": {
    "collapsed": false
   }
  },
  {
   "cell_type": "code",
   "outputs": [],
   "source": [
    "import numpy as np\n",
    "import pandas as pd\n",
    "import seaborn as sns\n",
    "import matplotlib.pyplot as plt\n",
    "\n",
    "df = pd.read_csv('student.csv')\n",
    "\n",
    "# sex F(0) 591 M(1) 453\n",
    "# famsize GT3(0) 738 LE3(1) 306\n",
    "# Pstatus A(0) 121 T(1) 923\n",
    "# Mjob at_home(0) 194 health(1) 82 other(2) 399 service(3) 239 teacher(4) 130\n",
    "# Fjob at_home(0) 62 health(1) 41 other(2) 584 service(3) 292 teacher(4) 65\n",
    "# higher yes(1) 955 no(0) 89\n",
    "# romantic yes(1) 371 no(0) 673"
   ],
   "metadata": {
    "collapsed": false,
    "ExecuteTime": {
     "end_time": "2024-03-04T23:43:05.767555900Z",
     "start_time": "2024-03-04T23:43:03.003542100Z"
    }
   },
   "execution_count": 2
  },
  {
   "cell_type": "code",
   "outputs": [],
   "source": [
    "from sklearn.preprocessing import OrdinalEncoder\n",
    "from sklearn.preprocessing import LabelEncoder\n",
    "from sklearn.utils import Bunch\n",
    "\n",
    "columns_name = ['sex', 'famsize', 'Pstatus', 'higher', 'romantic']\n",
    "encoder = OrdinalEncoder()\n",
    "le = LabelEncoder()\n",
    "df[columns_name] = encoder.fit_transform(df[columns_name])\n",
    "\n",
    "# df['Dalc'] = le.fit_transform(df['Dalc'])\n",
    "# df['Walc'] = le.fit_transform(df['Walc'])"
   ],
   "metadata": {
    "collapsed": false,
    "ExecuteTime": {
     "end_time": "2024-03-04T23:43:05.898209300Z",
     "start_time": "2024-03-04T23:43:05.770549200Z"
    }
   },
   "execution_count": 3
  },
  {
   "cell_type": "code",
   "outputs": [],
   "source": [
    "selected_columns = ['sex', 'age', 'Pstatus', 'famrel', 'Medu', 'Mjob', 'Fedu', 'Fjob', 'goout', 'health', 'Dalc', 'Walc']\n",
    "df = df[selected_columns].copy()"
   ],
   "metadata": {
    "collapsed": false,
    "ExecuteTime": {
     "end_time": "2024-03-04T23:43:05.908172500Z",
     "start_time": "2024-03-04T23:43:05.900204400Z"
    }
   },
   "execution_count": 4
  },
  {
   "cell_type": "code",
   "outputs": [],
   "source": [
    "X = df[['sex', 'age', 'Pstatus', 'famrel', 'Medu', 'Mjob', 'Fedu', 'Fjob', 'goout', 'health']]\n",
    "X = pd.get_dummies(X, columns=['Mjob', 'Fjob'])\n",
    "# \n",
    "yD = df['Dalc']\n",
    "yW = df['Walc']\n",
    "# selected = X[list(X.columns)]\n",
    "# interestCols = ['sex', 'age', 'Pstatus', 'famrel', 'Medu', 'Fedu', 'goout', 'health'\n",
    "#                       'Mjob_at_home', 'Mjob_health', 'Mjob_other', 'Mjob_services', 'Mjob_teacher',\n",
    "#                       'Fjob_at_home', 'Fjob_health', 'Fjob_other', 'Fjob_services', 'Fjob_teacher']"
   ],
   "metadata": {
    "collapsed": false,
    "ExecuteTime": {
     "end_time": "2024-03-04T23:43:05.919710500Z",
     "start_time": "2024-03-04T23:43:05.906178900Z"
    }
   },
   "execution_count": 5
  },
  {
   "cell_type": "code",
   "outputs": [],
   "source": [
    "datasetD = {\n",
    "    'data': X,\n",
    "    'target': yD,\n",
    "    'DESCR': 'Student alcohol consumption during weekday',\n",
    "    'feature_names': ['sex', 'age', 'Pstatus', 'famrel', 'Medu', 'Fedu', 'goout', 'health',\n",
    "                      'Mjob_at_home', 'Mjob_health', 'Mjob_other', 'Mjob_services', 'Mjob_teacher',\n",
    "                      'Fjob_at_home', 'Fjob_health', 'Fjob_other', 'Fjob_services', 'Fjob_teacher'],\n",
    "    'target_names': ['very low', 'low', 'moderate', 'high', 'very high'],\n",
    "}\n",
    "\n",
    "datasetW = {\n",
    "    'data': X,\n",
    "    'target': yW,\n",
    "    'DESCR': 'Student alcohol consumption during weekday',\n",
    "    'feature_names': ['sex', 'age', 'Pstatus', 'famrel', 'Medu', 'Fedu', 'goout', 'health',\n",
    "                      'Mjob_at_home', 'Mjob_health', 'Mjob_other', 'Mjob_services', 'Mjob_teacher',\n",
    "                      'Fjob_at_home', 'Fjob_health', 'Fjob_other', 'Fjob_services', 'Fjob_teacher'],\n",
    "    'target_names': ['very low', 'low', 'moderate', 'high', 'very high'],\n",
    "}\n",
    "\n",
    "\n",
    "bunchD = Bunch(**datasetD)\n",
    "bunchW = Bunch(**datasetW)\n",
    "\n",
    "X = bunchD.data\n",
    "yD = bunchD.target\n",
    "yW = bunchW.target\n",
    "\n",
    "feature_names = bunchD.feature_names\n",
    "class_names = bunchD.target_names"
   ],
   "metadata": {
    "collapsed": false,
    "ExecuteTime": {
     "end_time": "2024-03-04T23:43:05.931708Z",
     "start_time": "2024-03-04T23:43:05.921705Z"
    }
   },
   "execution_count": 6
  },
  {
   "cell_type": "markdown",
   "source": [
    "Import the important libraries of our modeling process"
   ],
   "metadata": {
    "collapsed": false
   }
  },
  {
   "cell_type": "code",
   "outputs": [],
   "source": [
    "from sklearn.model_selection import train_test_split\n",
    "from sklearn.metrics import accuracy_score, f1_score, recall_score, classification_report\n",
    "from sklearn.model_selection import GridSearchCV\n",
    "\n",
    "# Import used models\n",
    "from xgboost import XGBClassifier\n",
    "from sklearn import svm\n",
    "from sklearn.ensemble import RandomForestClassifier\n",
    "from sklearn.tree import plot_tree\n",
    "\n",
    "import pickle"
   ],
   "metadata": {
    "collapsed": false,
    "ExecuteTime": {
     "end_time": "2024-03-04T23:43:06.121975Z",
     "start_time": "2024-03-04T23:43:05.926721600Z"
    }
   },
   "execution_count": 7
  },
  {
   "cell_type": "markdown",
   "source": [
    "\n",
    "# SVM"
   ],
   "metadata": {
    "collapsed": false
   }
  },
  {
   "cell_type": "code",
   "outputs": [
    {
     "name": "stdout",
     "output_type": "stream",
     "text": [
      "              precision    recall  f1-score   support\n",
      "\n",
      "           1       0.93      0.89      0.91       153\n",
      "           2       0.76      0.81      0.78        36\n",
      "           3       0.82      0.90      0.86        10\n",
      "           4       0.00      0.00      0.00         3\n",
      "           5       0.56      0.71      0.62         7\n",
      "\n",
      "    accuracy                           0.86       209\n",
      "   macro avg       0.61      0.66      0.64       209\n",
      "weighted avg       0.87      0.86      0.86       209\n"
     ]
    }
   ],
   "source": [
    "svcD = svm.SVC(kernel='poly', degree=50, class_weight='balanced')\n",
    "X_train, X_test, y_train, y_test = train_test_split(X, yD, test_size=0.2, random_state=30)\n",
    "svcD.fit(X_train, y_train)\n",
    "filename = 'svcD.sav'\n",
    "pickle.dump(svcD, open(filename, 'wb'))\n",
    "\n",
    "y_pred = svcD.predict(X_test)\n",
    "# print(y_test, y_pred)\n",
    "print(classification_report(y_test, y_pred)) #0.86"
   ],
   "metadata": {
    "collapsed": false,
    "ExecuteTime": {
     "end_time": "2024-03-04T23:43:09.455561100Z",
     "start_time": "2024-03-04T23:43:06.124968100Z"
    }
   },
   "execution_count": 8
  },
  {
   "cell_type": "code",
   "outputs": [],
   "source": [
    "#print(accuracy_score(y_test, y_pred))\n",
    "#print(f1_score(y_test, y_pred, average='micro'))\n",
    "#print(recall_score(y_test, y_pred, average='micro'))"
   ],
   "metadata": {
    "collapsed": false,
    "ExecuteTime": {
     "end_time": "2024-03-04T23:43:09.456584800Z",
     "start_time": "2024-03-04T23:43:09.448579700Z"
    }
   },
   "execution_count": 9
  },
  {
   "cell_type": "code",
   "outputs": [
    {
     "name": "stdout",
     "output_type": "stream",
     "text": [
      "              precision    recall  f1-score   support\n",
      "\n",
      "           1       0.79      0.85      0.82        81\n",
      "           2       0.67      0.69      0.68        49\n",
      "           3       0.67      0.62      0.64        39\n",
      "           4       0.88      0.76      0.81        29\n",
      "           5       0.60      0.55      0.57        11\n",
      "\n",
      "    accuracy                           0.74       209\n",
      "   macro avg       0.72      0.69      0.71       209\n",
      "weighted avg       0.74      0.74      0.74       209\n"
     ]
    }
   ],
   "source": [
    "from sklearn import svm\n",
    "\n",
    "svcW = svm.SVC(kernel='poly', degree=50, class_weight='balanced')\n",
    "X_train, X_test, y_train, y_test = train_test_split(X, yW, test_size=0.2, random_state=80)\n",
    "svcW.fit(X_train, y_train)\n",
    "\n",
    "filename = 'svcW.sav'\n",
    "pickle.dump(svcW, open(filename, 'wb'))\n",
    "\n",
    "y_pred = svcW.predict(X_test)\n",
    "# print(y_test, y_pred)\n",
    "print(classification_report(y_test, y_pred)) # 0.74"
   ],
   "metadata": {
    "collapsed": false,
    "ExecuteTime": {
     "end_time": "2024-03-04T23:43:13.389279900Z",
     "start_time": "2024-03-04T23:43:09.454562400Z"
    }
   },
   "execution_count": 10
  },
  {
   "cell_type": "markdown",
   "source": [
    "# Random Forest Tree"
   ],
   "metadata": {
    "collapsed": false
   }
  },
  {
   "cell_type": "code",
   "outputs": [
    {
     "name": "stdout",
     "output_type": "stream",
     "text": [
      "accuracy: 0.9138755980861244\n",
      "              precision    recall  f1-score   support\n",
      "\n",
      "           1       0.93      0.99      0.96       149\n",
      "           2       0.97      0.79      0.87        42\n",
      "           3       0.73      0.67      0.70        12\n",
      "           5       0.50      0.33      0.40         6\n",
      "\n",
      "    accuracy                           0.91       209\n",
      "   macro avg       0.78      0.69      0.73       209\n",
      "weighted avg       0.91      0.91      0.91       209\n"
     ]
    }
   ],
   "source": [
    "X_train, X_test, y_train, y_test = train_test_split(X, yD, test_size=0.2, random_state=80)\n",
    "\n",
    "rftD = RandomForestClassifier(max_depth=9, n_estimators=400, class_weight='balanced', random_state=30)\n",
    "rftD.fit(X_train, y_train)\n",
    "filename = 'rftD.sav'\n",
    "pickle.dump(rftD, open(filename, 'wb'))\n",
    "y_pred = rftD.predict(X_test)\n",
    "\n",
    "acc = accuracy_score(y_test, y_pred)\n",
    "print(\"accuracy:\", acc) #0.9138755980861244\n",
    "print(classification_report(y_test, y_pred))"
   ],
   "metadata": {
    "collapsed": false,
    "ExecuteTime": {
     "end_time": "2024-03-04T23:43:14.019783600Z",
     "start_time": "2024-03-04T23:43:13.386260Z"
    }
   },
   "execution_count": 11
  },
  {
   "cell_type": "code",
   "outputs": [],
   "source": [
    "# tree_to_plot = 2 \n",
    "# \n",
    "# plt.figure(figsize=(30,20))\n",
    "# plt.rcParams['lines.linewidth'] = 0.3\n",
    "# plot_tree(rftD.estimators_[tree_to_plot], feature_names=feature_names, filled=True, class_names=class_names)"
   ],
   "metadata": {
    "collapsed": false,
    "ExecuteTime": {
     "end_time": "2024-03-04T23:43:14.020782700Z",
     "start_time": "2024-03-04T23:43:14.014071200Z"
    }
   },
   "execution_count": 12
  },
  {
   "cell_type": "code",
   "outputs": [
    {
     "name": "stdout",
     "output_type": "stream",
     "text": [
      "accuracy: 0.7655502392344498\n",
      "              precision    recall  f1-score   support\n",
      "\n",
      "           1       0.77      0.88      0.82        81\n",
      "           2       0.80      0.65      0.72        49\n",
      "           3       0.71      0.62      0.66        39\n",
      "           4       0.76      0.86      0.81        29\n",
      "           5       0.80      0.73      0.76        11\n",
      "\n",
      "    accuracy                           0.77       209\n",
      "   macro avg       0.77      0.75      0.75       209\n",
      "weighted avg       0.77      0.77      0.76       209\n"
     ]
    }
   ],
   "source": [
    "X_train, X_test, y_train, y_test = train_test_split(X, yW, test_size=0.2, random_state=80)\n",
    "rftW = RandomForestClassifier(max_depth=9, n_estimators=400, class_weight='balanced', random_state=80)\n",
    "rftW.fit(X_train, y_train)\n",
    "filename = 'rftW.sav'\n",
    "pickle.dump(rftW, open(filename, 'wb'))\n",
    "\n",
    "y_pred = rftW.predict(X_test)\n",
    "acc = accuracy_score(y_test, y_pred)\n",
    "print(\"accuracy:\", acc) # 0.7655502392344498\n",
    "print(classification_report(y_test, y_pred))"
   ],
   "metadata": {
    "collapsed": false,
    "ExecuteTime": {
     "end_time": "2024-03-04T23:43:14.674843100Z",
     "start_time": "2024-03-04T23:43:14.018758400Z"
    }
   },
   "execution_count": 13
  },
  {
   "cell_type": "code",
   "outputs": [],
   "source": [
    "# tree_to_plot = 2 \n",
    "# \n",
    "# plt.figure(figsize=(30,20))\n",
    "# plt.rcParams['lines.linewidth'] = 0.3\n",
    "# plot_tree(rftW.estimators_[tree_to_plot], feature_names=feature_names, filled=True, class_names=class_names)"
   ],
   "metadata": {
    "collapsed": false,
    "ExecuteTime": {
     "end_time": "2024-03-04T23:43:14.675840300Z",
     "start_time": "2024-03-04T23:43:14.667989500Z"
    }
   },
   "execution_count": 14
  },
  {
   "cell_type": "markdown",
   "source": [
    "# XGBoost"
   ],
   "metadata": {
    "collapsed": false
   }
  },
  {
   "cell_type": "code",
   "outputs": [
    {
     "name": "stderr",
     "output_type": "stream",
     "text": [
      "C:\\Users\\monii\\PycharmProjects\\DSGP8\\.venv\\Lib\\site-packages\\xgboost\\core.py:248: FutureWarning: Index.format is deprecated and will be removed in a future version. Convert using index.astype(str) or index.map(formatter) instead.\n",
      "  feature_names = data.columns.format()\n"
     ]
    },
    {
     "name": "stdout",
     "output_type": "stream",
     "text": [
      "              precision    recall  f1-score   support\n",
      "\n",
      "           1       0.95      0.97      0.96       153\n",
      "           2       0.83      0.81      0.82        36\n",
      "           3       0.75      0.90      0.82        10\n",
      "           4       0.00      0.00      0.00         3\n",
      "           5       0.83      0.71      0.77         7\n",
      "\n",
      "    accuracy                           0.91       209\n",
      "   macro avg       0.67      0.68      0.67       209\n",
      "weighted avg       0.90      0.91      0.91       209\n"
     ]
    },
    {
     "name": "stderr",
     "output_type": "stream",
     "text": [
      "C:\\Users\\monii\\PycharmProjects\\DSGP8\\.venv\\Lib\\site-packages\\xgboost\\core.py:248: FutureWarning: Index.format is deprecated and will be removed in a future version. Convert using index.astype(str) or index.map(formatter) instead.\n",
      "  feature_names = data.columns.format()\n",
      "C:\\Users\\monii\\PycharmProjects\\DSGP8\\.venv\\Lib\\site-packages\\sklearn\\metrics\\_classification.py:1509: UndefinedMetricWarning: Precision is ill-defined and being set to 0.0 in labels with no predicted samples. Use `zero_division` parameter to control this behavior.\n",
      "  _warn_prf(average, modifier, f\"{metric.capitalize()} is\", len(result))\n",
      "C:\\Users\\monii\\PycharmProjects\\DSGP8\\.venv\\Lib\\site-packages\\sklearn\\metrics\\_classification.py:1509: UndefinedMetricWarning: Precision is ill-defined and being set to 0.0 in labels with no predicted samples. Use `zero_division` parameter to control this behavior.\n",
      "  _warn_prf(average, modifier, f\"{metric.capitalize()} is\", len(result))\n",
      "C:\\Users\\monii\\PycharmProjects\\DSGP8\\.venv\\Lib\\site-packages\\sklearn\\metrics\\_classification.py:1509: UndefinedMetricWarning: Precision is ill-defined and being set to 0.0 in labels with no predicted samples. Use `zero_division` parameter to control this behavior.\n",
      "  _warn_prf(average, modifier, f\"{metric.capitalize()} is\", len(result))\n"
     ]
    }
   ],
   "source": [
    "modelD = XGBClassifier(n_estimators=300, max_depth=12, max_leaves=0, learning_rate=0.05, objective='multi:softmax', booster='gbtree', colsample_bytree=1, min_child_weight=1)\n",
    "\n",
    "X_train, X_test, y_train, y_test = train_test_split(X, yD, test_size=0.2, random_state=30)\n",
    "le = LabelEncoder()\n",
    "y_train = le.fit_transform(y_train)\n",
    "modelD.fit(X_train, y_train)\n",
    "filename = 'xgboostD.sav'\n",
    "pickle.dump(modelD, open(filename, 'wb'))\n",
    "\n",
    "y_pred = modelD.predict(X_test)\n",
    "y_pred = le.inverse_transform(y_pred)\n",
    "print(classification_report(y_test, y_pred)) #0.9138755980861244"
   ],
   "metadata": {
    "collapsed": false,
    "ExecuteTime": {
     "end_time": "2024-03-04T23:43:17.336507Z",
     "start_time": "2024-03-04T23:43:14.674843100Z"
    }
   },
   "execution_count": 15
  },
  {
   "cell_type": "code",
   "outputs": [
    {
     "name": "stderr",
     "output_type": "stream",
     "text": [
      "C:\\Users\\monii\\PycharmProjects\\DSGP8\\.venv\\Lib\\site-packages\\xgboost\\core.py:248: FutureWarning: Index.format is deprecated and will be removed in a future version. Convert using index.astype(str) or index.map(formatter) instead.\n",
      "  feature_names = data.columns.format()\n"
     ]
    },
    {
     "name": "stdout",
     "output_type": "stream",
     "text": [
      "              precision    recall  f1-score   support\n",
      "\n",
      "           1       0.76      0.86      0.81        81\n",
      "           2       0.77      0.67      0.72        49\n",
      "           3       0.90      0.69      0.78        39\n",
      "           4       0.68      0.86      0.76        29\n",
      "           5       0.86      0.55      0.67        11\n",
      "\n",
      "    accuracy                           0.77       209\n",
      "   macro avg       0.79      0.73      0.75       209\n",
      "weighted avg       0.78      0.77      0.77       209\n"
     ]
    },
    {
     "name": "stderr",
     "output_type": "stream",
     "text": [
      "C:\\Users\\monii\\PycharmProjects\\DSGP8\\.venv\\Lib\\site-packages\\xgboost\\core.py:248: FutureWarning: Index.format is deprecated and will be removed in a future version. Convert using index.astype(str) or index.map(formatter) instead.\n",
      "  feature_names = data.columns.format()\n"
     ]
    }
   ],
   "source": [
    "modelW = XGBClassifier(n_estimators=200, max_depth=9, learning_rate=0.05, objective='multi:softmax', booster='gbtree', min_child_weight=1, sampling_method='uniform')\n",
    "\n",
    "X_train, X_test, y_train, y_test = train_test_split(X, yW, test_size=0.2, random_state=80)\n",
    "# Transform the labels [1,2,3,4,5] to [0,1,2,3,4] in order to fit the model\n",
    "le = LabelEncoder()\n",
    "y_train = le.fit_transform(y_train)\n",
    "modelW.fit(X_train, y_train)\n",
    "filename = 'xgboostW.sav'\n",
    "pickle.dump(modelW, open(filename, 'wb'))\n",
    "\n",
    "y_pred = modelW.predict(X_test)\n",
    "y_pred = le.inverse_transform(y_pred)\n",
    "print(classification_report(y_test, y_pred))"
   ],
   "metadata": {
    "collapsed": false,
    "ExecuteTime": {
     "end_time": "2024-03-04T23:43:18.932595900Z",
     "start_time": "2024-03-04T23:43:17.336507Z"
    }
   },
   "execution_count": 16
  },
  {
   "cell_type": "code",
   "outputs": [
    {
     "name": "stdout",
     "output_type": "stream",
     "text": [
      "              precision    recall  f1-score   support\n",
      "\n",
      "           1       0.89      0.93      0.91       146\n",
      "           2       0.81      0.76      0.78        38\n",
      "           3       0.90      0.82      0.86        11\n",
      "           4       0.00      0.00      0.00         5\n",
      "           5       0.71      0.56      0.62         9\n",
      "\n",
      "    accuracy                           0.86       209\n",
      "   macro avg       0.66      0.61      0.64       209\n",
      "weighted avg       0.85      0.86      0.85       209\n",
      "\n",
      "              precision    recall  f1-score   support\n",
      "\n",
      "           1       0.97      0.95      0.96       156\n",
      "           2       0.81      0.83      0.82        35\n",
      "           3       0.90      0.75      0.82        12\n",
      "           4       0.00      0.00      0.00         0\n",
      "           5       0.71      0.83      0.77         6\n",
      "\n",
      "    accuracy                           0.91       209\n",
      "   macro avg       0.68      0.67      0.67       209\n",
      "weighted avg       0.93      0.91      0.92       209\n"
     ]
    },
    {
     "name": "stderr",
     "output_type": "stream",
     "text": [
      "C:\\Users\\monii\\PycharmProjects\\DSGP8\\.venv\\Lib\\site-packages\\xgboost\\core.py:248: FutureWarning: Index.format is deprecated and will be removed in a future version. Convert using index.astype(str) or index.map(formatter) instead.\n",
      "  feature_names = data.columns.format()\n",
      "C:\\Users\\monii\\PycharmProjects\\DSGP8\\.venv\\Lib\\site-packages\\sklearn\\metrics\\_classification.py:1509: UndefinedMetricWarning: Recall is ill-defined and being set to 0.0 in labels with no true samples. Use `zero_division` parameter to control this behavior.\n",
      "  _warn_prf(average, modifier, f\"{metric.capitalize()} is\", len(result))\n",
      "C:\\Users\\monii\\PycharmProjects\\DSGP8\\.venv\\Lib\\site-packages\\sklearn\\metrics\\_classification.py:1509: UndefinedMetricWarning: Recall is ill-defined and being set to 0.0 in labels with no true samples. Use `zero_division` parameter to control this behavior.\n",
      "  _warn_prf(average, modifier, f\"{metric.capitalize()} is\", len(result))\n",
      "C:\\Users\\monii\\PycharmProjects\\DSGP8\\.venv\\Lib\\site-packages\\sklearn\\metrics\\_classification.py:1509: UndefinedMetricWarning: Recall is ill-defined and being set to 0.0 in labels with no true samples. Use `zero_division` parameter to control this behavior.\n",
      "  _warn_prf(average, modifier, f\"{metric.capitalize()} is\", len(result))\n"
     ]
    }
   ],
   "source": [
    "X_train, X_test, y_train, y_test = train_test_split(X, yD, test_size=0.2, random_state=30)\n",
    "filenamesD = ['svcD', 'xgboostD']\n",
    "resD = []\n",
    "for filename in filenamesD:\n",
    "    loaded_model = pickle.load(open(filename+'.sav', 'rb'))\n",
    "    if filename == 'xgboostD':\n",
    "        y_pred = loaded_model.predict(X_test)\n",
    "        y_pred = le.inverse_transform(y_pred)\n",
    "        resD.append(y_pred)\n",
    "    else:\n",
    "        resD.append(loaded_model.predict(X_test))\n",
    "\n",
    "for y_pred in resD:\n",
    "    print(classification_report(y_pred, y_test))"
   ],
   "metadata": {
    "collapsed": false,
    "ExecuteTime": {
     "end_time": "2024-03-04T23:43:19.024355800Z",
     "start_time": "2024-03-04T23:43:18.933592900Z"
    }
   },
   "execution_count": 17
  },
  {
   "cell_type": "code",
   "outputs": [
    {
     "name": "stdout",
     "output_type": "stream",
     "text": [
      "              precision    recall  f1-score   support\n",
      "\n",
      "           1       0.85      0.79      0.82        87\n",
      "           2       0.69      0.67      0.68        51\n",
      "           3       0.62      0.67      0.64        36\n",
      "           4       0.76      0.88      0.81        25\n",
      "           5       0.55      0.60      0.57        10\n",
      "\n",
      "    accuracy                           0.74       209\n",
      "   macro avg       0.69      0.72      0.71       209\n",
      "weighted avg       0.75      0.74      0.74       209\n",
      "\n",
      "              precision    recall  f1-score   support\n",
      "\n",
      "           1       0.86      0.76      0.81        92\n",
      "           2       0.67      0.77      0.72        43\n",
      "           3       0.69      0.90      0.78        30\n",
      "           4       0.86      0.68      0.76        37\n",
      "           5       0.55      0.86      0.67         7\n",
      "\n",
      "    accuracy                           0.77       209\n",
      "   macro avg       0.73      0.79      0.75       209\n",
      "weighted avg       0.79      0.77      0.77       209\n"
     ]
    },
    {
     "name": "stderr",
     "output_type": "stream",
     "text": [
      "C:\\Users\\monii\\PycharmProjects\\DSGP8\\.venv\\Lib\\site-packages\\xgboost\\core.py:248: FutureWarning: Index.format is deprecated and will be removed in a future version. Convert using index.astype(str) or index.map(formatter) instead.\n",
      "  feature_names = data.columns.format()\n"
     ]
    }
   ],
   "source": [
    "X_train, X_test, y_train, y_test = train_test_split(X, yW, test_size=0.2, random_state=80)\n",
    "filenamesD = ['svcW', 'xgboostW']\n",
    "resW = []\n",
    "for filename in filenamesD:\n",
    "    loaded_model = pickle.load(open(filename+'.sav', 'rb'))\n",
    "    if filename == 'xgboostW':\n",
    "        y_pred = loaded_model.predict(X_test)\n",
    "        y_pred = le.inverse_transform(y_pred)\n",
    "        resW.append(y_pred)\n",
    "    else:\n",
    "        resW.append(loaded_model.predict(X_test))\n",
    "\n",
    "for y_pred in resW:\n",
    "    print(classification_report(y_pred, y_test))"
   ],
   "metadata": {
    "collapsed": false,
    "ExecuteTime": {
     "end_time": "2024-03-04T23:43:19.090713900Z",
     "start_time": "2024-03-04T23:43:19.017375100Z"
    }
   },
   "execution_count": 18
  },
  {
   "cell_type": "code",
   "outputs": [],
   "source": [
    "# # Use Grid Search CV to find the best parameters for xgboost model\n",
    "# params = {\n",
    "#         'min_child_weight': [1, 5, 10],\n",
    "#         'gamma': [0.5, 1, 1.5, 2, 5],\n",
    "#         'subsample': [0.6, 0.8, 1.0],\n",
    "#         'colsample_bytree': [0.6, 0.8, 1.0],\n",
    "#         'max_depth': [3, 4, 5]\n",
    "# }\n",
    "# \n",
    "# xgbc = XGBClassifier()\n",
    "# y_train = le.fit_transform(y_train)\n",
    "# #clf = GridSearchCV(estimator=xgbc, param_grid=param_grid, scoring='accuracy', return_train_score=True, verbose=1, cv=3)\n",
    "# grid_search = GridSearchCV(\n",
    "#     estimator=xgbc,\n",
    "#     param_grid=params,\n",
    "#     scoring = 'accuracy',\n",
    "#     n_jobs = 10,\n",
    "#     cv = 5,\n",
    "#     verbose=True,\n",
    "# )\n",
    "# grid_search.fit(X_train, y_train)"
   ],
   "metadata": {
    "collapsed": false,
    "ExecuteTime": {
     "end_time": "2024-03-04T23:43:19.108694600Z",
     "start_time": "2024-03-04T23:43:19.089716600Z"
    }
   },
   "execution_count": 19
  },
  {
   "cell_type": "code",
   "outputs": [],
   "source": [
    "# grid_search.best_params_"
   ],
   "metadata": {
    "collapsed": false,
    "ExecuteTime": {
     "end_time": "2024-03-04T23:43:19.110689600Z",
     "start_time": "2024-03-04T23:43:19.095836300Z"
    }
   },
   "execution_count": 20
  },
  {
   "cell_type": "markdown",
   "source": [
    "# Evaluating performance of different models"
   ],
   "metadata": {
    "collapsed": false
   }
  },
  {
   "cell_type": "code",
   "outputs": [],
   "source": [
    "from sklearn import model_selection"
   ],
   "metadata": {
    "collapsed": false,
    "ExecuteTime": {
     "end_time": "2024-03-04T23:43:19.179590500Z",
     "start_time": "2024-03-04T23:43:19.106700800Z"
    }
   },
   "execution_count": 21
  },
  {
   "cell_type": "code",
   "outputs": [],
   "source": [
    "# Preparing evaluation variables\n",
    "resultsW = []\n",
    "resultsD = []\n",
    "seedW = 80\n",
    "seedD = 30\n",
    "names = ['SVM', 'RandomForest', 'XGBoost']\n",
    "scoring = 'accuracy'\n",
    "modelsW = ['svcW', 'rftW']\n",
    "modelsD = ['svcD', 'rftD']\n",
    "le = LabelEncoder()"
   ],
   "metadata": {
    "collapsed": false,
    "ExecuteTime": {
     "end_time": "2024-03-04T23:58:09.784590600Z",
     "start_time": "2024-03-04T23:58:09.752672900Z"
    }
   },
   "execution_count": 38
  },
  {
   "cell_type": "code",
   "outputs": [
    {
     "name": "stdout",
     "output_type": "stream",
     "text": [
      "svcW: 0.751850 (0.036371)\n",
      "rftW: 0.722106 (0.043249)\n"
     ]
    },
    {
     "name": "stderr",
     "output_type": "stream",
     "text": [
      "C:\\Users\\monii\\PycharmProjects\\DSGP8\\.venv\\Lib\\site-packages\\xgboost\\core.py:248: FutureWarning: Index.format is deprecated and will be removed in a future version. Convert using index.astype(str) or index.map(formatter) instead.\n",
      "  feature_names = data.columns.format()\n",
      "C:\\Users\\monii\\PycharmProjects\\DSGP8\\.venv\\Lib\\site-packages\\xgboost\\core.py:248: FutureWarning: Index.format is deprecated and will be removed in a future version. Convert using index.astype(str) or index.map(formatter) instead.\n",
      "  feature_names = data.columns.format()\n",
      "C:\\Users\\monii\\PycharmProjects\\DSGP8\\.venv\\Lib\\site-packages\\xgboost\\core.py:248: FutureWarning: Index.format is deprecated and will be removed in a future version. Convert using index.astype(str) or index.map(formatter) instead.\n",
      "  feature_names = data.columns.format()\n",
      "C:\\Users\\monii\\PycharmProjects\\DSGP8\\.venv\\Lib\\site-packages\\xgboost\\core.py:248: FutureWarning: Index.format is deprecated and will be removed in a future version. Convert using index.astype(str) or index.map(formatter) instead.\n",
      "  feature_names = data.columns.format()\n",
      "C:\\Users\\monii\\PycharmProjects\\DSGP8\\.venv\\Lib\\site-packages\\xgboost\\core.py:248: FutureWarning: Index.format is deprecated and will be removed in a future version. Convert using index.astype(str) or index.map(formatter) instead.\n",
      "  feature_names = data.columns.format()\n",
      "C:\\Users\\monii\\PycharmProjects\\DSGP8\\.venv\\Lib\\site-packages\\xgboost\\core.py:248: FutureWarning: Index.format is deprecated and will be removed in a future version. Convert using index.astype(str) or index.map(formatter) instead.\n",
      "  feature_names = data.columns.format()\n",
      "C:\\Users\\monii\\PycharmProjects\\DSGP8\\.venv\\Lib\\site-packages\\xgboost\\core.py:248: FutureWarning: Index.format is deprecated and will be removed in a future version. Convert using index.astype(str) or index.map(formatter) instead.\n",
      "  feature_names = data.columns.format()\n",
      "C:\\Users\\monii\\PycharmProjects\\DSGP8\\.venv\\Lib\\site-packages\\xgboost\\core.py:248: FutureWarning: Index.format is deprecated and will be removed in a future version. Convert using index.astype(str) or index.map(formatter) instead.\n",
      "  feature_names = data.columns.format()\n",
      "C:\\Users\\monii\\PycharmProjects\\DSGP8\\.venv\\Lib\\site-packages\\xgboost\\core.py:248: FutureWarning: Index.format is deprecated and will be removed in a future version. Convert using index.astype(str) or index.map(formatter) instead.\n",
      "  feature_names = data.columns.format()\n",
      "C:\\Users\\monii\\PycharmProjects\\DSGP8\\.venv\\Lib\\site-packages\\xgboost\\core.py:248: FutureWarning: Index.format is deprecated and will be removed in a future version. Convert using index.astype(str) or index.map(formatter) instead.\n",
      "  feature_names = data.columns.format()\n",
      "C:\\Users\\monii\\PycharmProjects\\DSGP8\\.venv\\Lib\\site-packages\\xgboost\\core.py:248: FutureWarning: Index.format is deprecated and will be removed in a future version. Convert using index.astype(str) or index.map(formatter) instead.\n",
      "  feature_names = data.columns.format()\n",
      "C:\\Users\\monii\\PycharmProjects\\DSGP8\\.venv\\Lib\\site-packages\\xgboost\\core.py:248: FutureWarning: Index.format is deprecated and will be removed in a future version. Convert using index.astype(str) or index.map(formatter) instead.\n",
      "  feature_names = data.columns.format()\n",
      "C:\\Users\\monii\\PycharmProjects\\DSGP8\\.venv\\Lib\\site-packages\\xgboost\\core.py:248: FutureWarning: Index.format is deprecated and will be removed in a future version. Convert using index.astype(str) or index.map(formatter) instead.\n",
      "  feature_names = data.columns.format()\n",
      "C:\\Users\\monii\\PycharmProjects\\DSGP8\\.venv\\Lib\\site-packages\\xgboost\\core.py:248: FutureWarning: Index.format is deprecated and will be removed in a future version. Convert using index.astype(str) or index.map(formatter) instead.\n",
      "  feature_names = data.columns.format()\n",
      "C:\\Users\\monii\\PycharmProjects\\DSGP8\\.venv\\Lib\\site-packages\\xgboost\\core.py:248: FutureWarning: Index.format is deprecated and will be removed in a future version. Convert using index.astype(str) or index.map(formatter) instead.\n",
      "  feature_names = data.columns.format()\n",
      "C:\\Users\\monii\\PycharmProjects\\DSGP8\\.venv\\Lib\\site-packages\\xgboost\\core.py:248: FutureWarning: Index.format is deprecated and will be removed in a future version. Convert using index.astype(str) or index.map(formatter) instead.\n",
      "  feature_names = data.columns.format()\n",
      "C:\\Users\\monii\\PycharmProjects\\DSGP8\\.venv\\Lib\\site-packages\\xgboost\\core.py:248: FutureWarning: Index.format is deprecated and will be removed in a future version. Convert using index.astype(str) or index.map(formatter) instead.\n",
      "  feature_names = data.columns.format()\n",
      "C:\\Users\\monii\\PycharmProjects\\DSGP8\\.venv\\Lib\\site-packages\\xgboost\\core.py:248: FutureWarning: Index.format is deprecated and will be removed in a future version. Convert using index.astype(str) or index.map(formatter) instead.\n",
      "  feature_names = data.columns.format()\n",
      "C:\\Users\\monii\\PycharmProjects\\DSGP8\\.venv\\Lib\\site-packages\\xgboost\\core.py:248: FutureWarning: Index.format is deprecated and will be removed in a future version. Convert using index.astype(str) or index.map(formatter) instead.\n",
      "  feature_names = data.columns.format()\n"
     ]
    },
    {
     "name": "stdout",
     "output_type": "stream",
     "text": [
      "xgboost: 0.774835 (0.038353)\n"
     ]
    },
    {
     "name": "stderr",
     "output_type": "stream",
     "text": [
      "C:\\Users\\monii\\PycharmProjects\\DSGP8\\.venv\\Lib\\site-packages\\xgboost\\core.py:248: FutureWarning: Index.format is deprecated and will be removed in a future version. Convert using index.astype(str) or index.map(formatter) instead.\n",
      "  feature_names = data.columns.format()\n"
     ]
    }
   ],
   "source": [
    "# Evaluating models for weekend alcohol consumption\n",
    "for model in modelsW:\n",
    "    loaded_model = pickle.load(open(model+'.sav', 'rb'))\n",
    "    kfold = model_selection.KFold(n_splits=10, random_state=seedW, shuffle=True)\n",
    "    cv_results = model_selection.cross_val_score(loaded_model, X, yW, cv=kfold, scoring=scoring)\n",
    "    resultsW.append(cv_results)\n",
    "    msg = \"%s: %f (%f)\" % (model, cv_results.mean(), cv_results.std())\n",
    "    print(msg)\n",
    "\n",
    "loaded_model = pickle.load(open('xgboostW.sav', 'rb'))\n",
    "kfold = model_selection.KFold(n_splits=10, random_state=seedW, shuffle=True)\n",
    "yW = le.fit_transform(yW)\n",
    "cv_results = model_selection.cross_val_score(loaded_model, X, yW, cv=kfold, scoring=scoring)\n",
    "resultsW.append(cv_results)\n",
    "\n",
    "msg = \"%s: %f (%f)\" % ('xgboost', cv_results.mean(), cv_results.std())\n",
    "print(msg)"
   ],
   "metadata": {
    "collapsed": false,
    "ExecuteTime": {
     "end_time": "2024-03-04T23:59:42.896211Z",
     "start_time": "2024-03-04T23:58:10.241687500Z"
    }
   },
   "execution_count": 39
  },
  {
   "cell_type": "code",
   "outputs": [
    {
     "data": {
      "text/plain": "<Figure size 640x480 with 1 Axes>",
      "image/png": "[encoded data removed]"
     },
     "metadata": {},
     "output_type": "display_data"
    }
   ],
   "source": [
    "# boxplot algorithm comparison\n",
    "fig = plt.figure()\n",
    "fig.suptitle('Algorithm comparison for alcohol consumption at weekend')\n",
    "ax = fig.add_subplot(111)\n",
    "plt.boxplot(resultsW)\n",
    "ax.set_xticklabels(names)\n",
    "plt.savefig('boxplotWeekend.png')\n",
    "plt.show()"
   ],
   "metadata": {
    "collapsed": false,
    "ExecuteTime": {
     "end_time": "2024-03-05T00:00:59.291335600Z",
     "start_time": "2024-03-05T00:00:59.151765800Z"
    }
   },
   "execution_count": 43
  },
  {
   "cell_type": "code",
   "outputs": [
    {
     "name": "stdout",
     "output_type": "stream",
     "text": [
      "svcD: 0.836273 (0.043785)\n",
      "rftD: 0.855330 (0.045135)\n"
     ]
    },
    {
     "name": "stderr",
     "output_type": "stream",
     "text": [
      "C:\\Users\\monii\\PycharmProjects\\DSGP8\\.venv\\Lib\\site-packages\\xgboost\\core.py:248: FutureWarning: Index.format is deprecated and will be removed in a future version. Convert using index.astype(str) or index.map(formatter) instead.\n",
      "  feature_names = data.columns.format()\n",
      "C:\\Users\\monii\\PycharmProjects\\DSGP8\\.venv\\Lib\\site-packages\\xgboost\\core.py:248: FutureWarning: Index.format is deprecated and will be removed in a future version. Convert using index.astype(str) or index.map(formatter) instead.\n",
      "  feature_names = data.columns.format()\n",
      "C:\\Users\\monii\\PycharmProjects\\DSGP8\\.venv\\Lib\\site-packages\\xgboost\\core.py:248: FutureWarning: Index.format is deprecated and will be removed in a future version. Convert using index.astype(str) or index.map(formatter) instead.\n",
      "  feature_names = data.columns.format()\n",
      "C:\\Users\\monii\\PycharmProjects\\DSGP8\\.venv\\Lib\\site-packages\\xgboost\\core.py:248: FutureWarning: Index.format is deprecated and will be removed in a future version. Convert using index.astype(str) or index.map(formatter) instead.\n",
      "  feature_names = data.columns.format()\n",
      "C:\\Users\\monii\\PycharmProjects\\DSGP8\\.venv\\Lib\\site-packages\\xgboost\\core.py:248: FutureWarning: Index.format is deprecated and will be removed in a future version. Convert using index.astype(str) or index.map(formatter) instead.\n",
      "  feature_names = data.columns.format()\n",
      "C:\\Users\\monii\\PycharmProjects\\DSGP8\\.venv\\Lib\\site-packages\\xgboost\\core.py:248: FutureWarning: Index.format is deprecated and will be removed in a future version. Convert using index.astype(str) or index.map(formatter) instead.\n",
      "  feature_names = data.columns.format()\n",
      "C:\\Users\\monii\\PycharmProjects\\DSGP8\\.venv\\Lib\\site-packages\\xgboost\\core.py:248: FutureWarning: Index.format is deprecated and will be removed in a future version. Convert using index.astype(str) or index.map(formatter) instead.\n",
      "  feature_names = data.columns.format()\n",
      "C:\\Users\\monii\\PycharmProjects\\DSGP8\\.venv\\Lib\\site-packages\\xgboost\\core.py:248: FutureWarning: Index.format is deprecated and will be removed in a future version. Convert using index.astype(str) or index.map(formatter) instead.\n",
      "  feature_names = data.columns.format()\n",
      "C:\\Users\\monii\\PycharmProjects\\DSGP8\\.venv\\Lib\\site-packages\\xgboost\\core.py:248: FutureWarning: Index.format is deprecated and will be removed in a future version. Convert using index.astype(str) or index.map(formatter) instead.\n",
      "  feature_names = data.columns.format()\n",
      "C:\\Users\\monii\\PycharmProjects\\DSGP8\\.venv\\Lib\\site-packages\\xgboost\\core.py:248: FutureWarning: Index.format is deprecated and will be removed in a future version. Convert using index.astype(str) or index.map(formatter) instead.\n",
      "  feature_names = data.columns.format()\n",
      "C:\\Users\\monii\\PycharmProjects\\DSGP8\\.venv\\Lib\\site-packages\\xgboost\\core.py:248: FutureWarning: Index.format is deprecated and will be removed in a future version. Convert using index.astype(str) or index.map(formatter) instead.\n",
      "  feature_names = data.columns.format()\n",
      "C:\\Users\\monii\\PycharmProjects\\DSGP8\\.venv\\Lib\\site-packages\\xgboost\\core.py:248: FutureWarning: Index.format is deprecated and will be removed in a future version. Convert using index.astype(str) or index.map(formatter) instead.\n",
      "  feature_names = data.columns.format()\n",
      "C:\\Users\\monii\\PycharmProjects\\DSGP8\\.venv\\Lib\\site-packages\\xgboost\\core.py:248: FutureWarning: Index.format is deprecated and will be removed in a future version. Convert using index.astype(str) or index.map(formatter) instead.\n",
      "  feature_names = data.columns.format()\n",
      "C:\\Users\\monii\\PycharmProjects\\DSGP8\\.venv\\Lib\\site-packages\\xgboost\\core.py:248: FutureWarning: Index.format is deprecated and will be removed in a future version. Convert using index.astype(str) or index.map(formatter) instead.\n",
      "  feature_names = data.columns.format()\n",
      "C:\\Users\\monii\\PycharmProjects\\DSGP8\\.venv\\Lib\\site-packages\\xgboost\\core.py:248: FutureWarning: Index.format is deprecated and will be removed in a future version. Convert using index.astype(str) or index.map(formatter) instead.\n",
      "  feature_names = data.columns.format()\n",
      "C:\\Users\\monii\\PycharmProjects\\DSGP8\\.venv\\Lib\\site-packages\\xgboost\\core.py:248: FutureWarning: Index.format is deprecated and will be removed in a future version. Convert using index.astype(str) or index.map(formatter) instead.\n",
      "  feature_names = data.columns.format()\n",
      "C:\\Users\\monii\\PycharmProjects\\DSGP8\\.venv\\Lib\\site-packages\\xgboost\\core.py:248: FutureWarning: Index.format is deprecated and will be removed in a future version. Convert using index.astype(str) or index.map(formatter) instead.\n",
      "  feature_names = data.columns.format()\n",
      "C:\\Users\\monii\\PycharmProjects\\DSGP8\\.venv\\Lib\\site-packages\\xgboost\\core.py:248: FutureWarning: Index.format is deprecated and will be removed in a future version. Convert using index.astype(str) or index.map(formatter) instead.\n",
      "  feature_names = data.columns.format()\n",
      "C:\\Users\\monii\\PycharmProjects\\DSGP8\\.venv\\Lib\\site-packages\\xgboost\\core.py:248: FutureWarning: Index.format is deprecated and will be removed in a future version. Convert using index.astype(str) or index.map(formatter) instead.\n",
      "  feature_names = data.columns.format()\n"
     ]
    },
    {
     "name": "stdout",
     "output_type": "stream",
     "text": [
      "xgboost: 0.856310 (0.037600)\n"
     ]
    },
    {
     "name": "stderr",
     "output_type": "stream",
     "text": [
      "C:\\Users\\monii\\PycharmProjects\\DSGP8\\.venv\\Lib\\site-packages\\xgboost\\core.py:248: FutureWarning: Index.format is deprecated and will be removed in a future version. Convert using index.astype(str) or index.map(formatter) instead.\n",
      "  feature_names = data.columns.format()\n"
     ]
    }
   ],
   "source": [
    "# Evaluating models for weekend alcohol consumption\n",
    "for model in modelsD:\n",
    "    loaded_model = pickle.load(open(model+'.sav', 'rb'))\n",
    "    kfold = model_selection.KFold(n_splits=10, random_state=seedD, shuffle=True)\n",
    "    cv_results = model_selection.cross_val_score(loaded_model, X, yD, cv=kfold, scoring=scoring)\n",
    "    resultsD.append(cv_results)\n",
    "\n",
    "    msg = \"%s: %f (%f)\" % (model, cv_results.mean(), cv_results.std())\n",
    "    print(msg)\n",
    "\n",
    "loaded_model = pickle.load(open('xgboostD.sav', 'rb'))\n",
    "kfold = model_selection.KFold(n_splits=10, random_state=seedD, shuffle=True)\n",
    "yD = le.fit_transform(yD)\n",
    "cv_results = model_selection.cross_val_score(loaded_model, X, yD, cv=kfold, scoring=scoring)\n",
    "resultsD.append(cv_results)\n",
    "# namesD.append('xgboost')\n",
    "\n",
    "msg = \"%s: %f (%f)\" % ('xgboost', cv_results.mean(), cv_results.std())\n",
    "print(msg)"
   ],
   "metadata": {
    "collapsed": false,
    "ExecuteTime": {
     "end_time": "2024-03-05T00:00:59.009209200Z",
     "start_time": "2024-03-04T23:59:43.048507300Z"
    }
   },
   "execution_count": 41
  },
  {
   "cell_type": "code",
   "outputs": [
    {
     "data": {
      "text/plain": "<Figure size 640x480 with 1 Axes>",
      "image/png": "[encoded data removed]"
     },
     "metadata": {},
     "output_type": "display_data"
    }
   ],
   "source": [
    "# boxplot algorithm comparison\n",
    "fig = plt.figure()\n",
    "fig.suptitle('Algorithm comparison for alcohol consumption at weekday')\n",
    "ax = fig.add_subplot(111)\n",
    "plt.boxplot(resultsD)\n",
    "ax.set_xticklabels(names)\n",
    "plt.savefig('boxplotWeekday.png')\n",
    "plt.show()"
   ],
   "metadata": {
    "collapsed": false,
    "ExecuteTime": {
     "end_time": "2024-03-05T00:03:07.426482900Z",
     "start_time": "2024-03-05T00:03:07.279107Z"
    }
   },
   "execution_count": 44
  },
  {
   "cell_type": "code",
   "outputs": [
    {
     "data": {
      "text/plain": "<Figure size 1000x500 with 1 Axes>",
      "image/png": "[encoded data removed]"
     },
     "metadata": {},
     "output_type": "display_data"
    }
   ],
   "source": [
    "feature_importantW = modelW.get_booster().get_score(importance_type='weight')\n",
    "feature_importantD = modelD.get_booster().get_score(importance_type='weight')\n",
    "keysD = list(feature_importantD.keys())\n",
    "valuesD = list(feature_importantD.values())\n",
    "keysW = list(feature_importantW.keys())\n",
    "valuesW = list(feature_importantW.values())\n",
    "dataW = pd.DataFrame(data=valuesW, index=keysW, columns=[\"score\"]).sort_values(by = \"score\", ascending=False)\n",
    "dataD = pd.DataFrame(data=valuesD, index=keysD, columns=[\"score\"]).sort_values(by = \"score\", ascending=False)\n",
    "# dataW = pd.DataFrame(data=valuesW, index=keysW, columns=[\"score\"])\n",
    "# dataD = pd.DataFrame(data=valuesD, index=keysD, columns=[\"score\"])\n",
    "\n",
    "# comp = pd.concat([dataW, dataD], axis=1)\n",
    "# comp.reorder_levels('score', axis=1)\n",
    "\n",
    "# comp.nlargest(10, columns='score').plot(kind='barh', figsize = (10,5), color='blue')\n",
    "# ax = dataW.nlargest(10, columns=\"score\").plot(kind='barh', figsize = (10,5), color='blue') ## plot top 10 features\n",
    "dataW.nlargest(10, columns=\"score\").plot(kind='barh', figsize = (10,5), color='purple') ## plot top 10 features\n",
    "plt.title('Feature importance ranking by applying XGBoost')\n",
    "plt.savefig('featureImportance.png')\n",
    "plt.show()"
   ],
   "metadata": {
    "collapsed": false,
    "ExecuteTime": {
     "end_time": "2024-03-05T00:03:10.305245Z",
     "start_time": "2024-03-05T00:03:09.643074800Z"
    }
   },
   "execution_count": 45
  },
  {
   "cell_type": "code",
   "outputs": [],
   "source": [
    "from sklearn.inspection import permutation_importance\n",
    "r = permutation_importance(rftD, X, yD, n_repeats=30, random_state=seedD)\n",
    "for i in r.importances_mean.argsort()[::-1]:\n",
    "    if r.importances_mean[i] - 2 * r.importances_std[i] > 0:\n",
    "         print(feature_names[i],r.importances_mean[i], r.importances_std[i])"
   ],
   "metadata": {
    "collapsed": false,
    "ExecuteTime": {
     "start_time": "2024-03-04T23:45:58.523591600Z"
    }
   },
   "execution_count": null
  },
  {
   "cell_type": "code",
   "outputs": [],
   "source": [
    "global_importances_random = pd.Series(rftD.feature_importances_, index=X_train.columns)\n",
    "global_importances_random.sort_values(ascending=True, inplace=True)"
   ],
   "metadata": {
    "collapsed": false,
    "ExecuteTime": {
     "start_time": "2024-03-04T23:45:58.525587300Z"
    }
   },
   "execution_count": null
  },
  {
   "cell_type": "code",
   "outputs": [],
   "source": [],
   "metadata": {
    "collapsed": false,
    "ExecuteTime": {
     "start_time": "2024-03-04T23:45:58.527580300Z"
    }
   }
  },
  {
   "cell_type": "code",
   "outputs": [],
   "source": [],
   "metadata": {
    "collapsed": false,
    "ExecuteTime": {
     "end_time": "2024-03-04T23:45:58.532566900Z",
     "start_time": "2024-03-04T23:45:58.529575700Z"
    }
   },
   "execution_count": null
  }
 ],
 "nbformat": 4,
 "nbformat_minor": 0,
 "metadata": {
  "deepnote_persisted_session": {
   "createdAt": "2024-02-13T19:29:15.709Z"
  },
  "deepnote_notebook_id": "c22d004bc42544f48cd8f4d3fd8a15ef",
  "deepnote_execution_queue": [],
  "kernelspec": {
   "name": "python3",
   "language": "python",
   "display_name": "Python 3 (ipykernel)"
  }
 }
}
