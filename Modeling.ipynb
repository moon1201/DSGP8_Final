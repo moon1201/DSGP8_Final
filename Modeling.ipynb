{
 "cells": [
  {
   "cell_type": "code",
   "outputs": [],
   "source": [
    "import numpy as np\n",
    "import pandas as pd\n",
    "import seaborn as sns\n",
    "import matplotlib.pyplot as plt\n",
    "\n",
    "df = pd.read_csv('student.csv')\n",
    "# sex F(0) 591 M(1) 453\n",
    "# famsize GT3(0) 738 LE3(1) 306\n",
    "# Pstatus A(0) 121 T(1) 923\n",
    "# Mjob at_home(0) 194 health(1) 82 other(2) 399 service(3) 239 teacher(4) 130\n",
    "# Fjob at_home(0) 62 health(1) 41 other(2) 584 service(3) 292 teacher(4) 65\n",
    "# higher yes(1) 955 no(0) 89\n",
    "# romantic yes(1) 371 no(0) 673"
   ],
   "metadata": {
    "collapsed": false,
    "ExecuteTime": {
     "end_time": "2024-02-27T16:18:18.137051900Z",
     "start_time": "2024-02-27T16:18:18.118266700Z"
    }
   },
   "execution_count": 79
  },
  {
   "cell_type": "code",
   "outputs": [],
   "source": [
    "from sklearn.preprocessing import OrdinalEncoder\n",
    "columns_name = ['sex', 'famsize', 'Pstatus', 'higher', 'romantic']\n",
    "encoder = OrdinalEncoder()\n",
    "df[columns_name] = encoder.fit_transform(df[columns_name])"
   ],
   "metadata": {
    "collapsed": false,
    "ExecuteTime": {
     "end_time": "2024-02-27T16:18:18.684180600Z",
     "start_time": "2024-02-27T16:18:18.656402500Z"
    }
   },
   "execution_count": 80
  },
  {
   "cell_type": "code",
   "outputs": [],
   "source": [
    "selected_columns = ['sex', 'age', 'Pstatus', 'famrel', 'Medu', 'Mjob', 'Fedu', 'Fjob', 'goout', 'health', 'Dalc', 'Walc']\n",
    "df = df[selected_columns].copy()"
   ],
   "metadata": {
    "collapsed": false,
    "ExecuteTime": {
     "end_time": "2024-02-27T16:18:19.222658800Z",
     "start_time": "2024-02-27T16:18:19.174850400Z"
    }
   },
   "execution_count": 81
  },
  {
   "cell_type": "code",
   "outputs": [],
   "source": [
    "X = df[['sex', 'age', 'Pstatus', 'famrel', 'Medu', 'Mjob', 'Fedu', 'Fjob', 'goout', 'health']]\n",
    "X = pd.get_dummies(X, columns=['Mjob', 'Fjob'])\n",
    "\n",
    "yD = df['Dalc']\n",
    "yW = df['Walc']\n",
    "selected = X[list(X.columns)]\n",
    "interestCols = ['sex', 'age', 'Pstatus', 'famrel', 'Medu', 'Fedu', 'goout', 'health'\n",
    "                      'Mjob_at_home', 'Mjob_health', 'Mjob_other', 'Mjob_services', 'Mjob_teacher',\n",
    "                      'Fjob_at_home', 'Fjob_health', 'Fjob_other', 'Fjob_services', 'Fjob_teacher']"
   ],
   "metadata": {
    "collapsed": false,
    "ExecuteTime": {
     "end_time": "2024-02-27T16:18:32.512092800Z",
     "start_time": "2024-02-27T16:18:32.488644300Z"
    }
   },
   "execution_count": 84
  },
  {
   "cell_type": "code",
   "outputs": [],
   "source": [
    "# Importing modules and libraries for our modeling\n",
    "from sklearn import linear_model\n",
    "from sklearn.model_selection import train_test_split\n",
    "from sklearn.metrics import accuracy_score, f1_score, recall_score, classification_report\n",
    "from sklearn.feature_selection import SequentialFeatureSelector\n",
    "from sklearn.model_selection import GridSearchCV\n",
    "from xgboost import XGBClassifier\n",
    "from sklearn.preprocessing import LabelEncoder\n",
    "import pickle"
   ],
   "metadata": {
    "collapsed": false,
    "ExecuteTime": {
     "end_time": "2024-02-27T16:18:33.539273100Z",
     "start_time": "2024-02-27T16:18:33.533782400Z"
    }
   },
   "execution_count": 85
  },
  {
   "cell_type": "code",
   "outputs": [
    {
     "name": "stdout",
     "output_type": "stream",
     "text": [
      "951    2\n",
      "3      1\n",
      "820    1\n",
      "681    2\n",
      "751    1\n",
      "      ..\n",
      "543    1\n",
      "133    1\n",
      "720    2\n",
      "191    1\n",
      "190    1\n",
      "Name: Dalc, Length: 209, dtype: int64 [2 1 1 2 2 4 3 1 3 2 1 1 1 1 3 2 2 1 1 1 2 1 2 1 1 1 1 1 1 2 1 2 2 1 2 1 1\n",
      " 1 1 2 1 1 1 3 5 1 1 5 1 1 1 5 1 2 1 1 2 1 1 1 2 5 1 3 2 2 1 1 1 1 1 1 1 1\n",
      " 1 1 1 1 5 1 1 3 5 3 1 1 2 1 1 1 1 2 1 1 1 1 4 1 1 1 1 1 1 3 1 1 2 2 1 5 2\n",
      " 1 1 1 1 1 1 1 2 1 1 1 2 1 2 1 1 1 1 1 2 1 2 4 1 1 1 1 1 3 1 1 4 5 1 3 5 4\n",
      " 1 1 1 1 1 1 1 1 1 2 1 1 1 1 1 1 1 2 1 1 1 1 1 2 1 1 2 1 2 1 2 1 1 1 1 3 1\n",
      " 1 1 1 1 1 1 1 1 1 1 1 1 1 1 2 1 2 2 1 1 1 2 1 1]\n",
      "              precision    recall  f1-score   support\n",
      "\n",
      "           1       0.93      0.89      0.91       153\n",
      "           2       0.76      0.81      0.78        36\n",
      "           3       0.82      0.90      0.86        10\n",
      "           4       0.00      0.00      0.00         3\n",
      "           5       0.56      0.71      0.62         7\n",
      "\n",
      "    accuracy                           0.86       209\n",
      "   macro avg       0.61      0.66      0.64       209\n",
      "weighted avg       0.87      0.86      0.86       209\n"
     ]
    }
   ],
   "source": [
    "from sklearn import svm\n",
    "\n",
    "svcD = svm.SVC(kernel='poly', degree=50, class_weight='balanced')\n",
    "X_train, X_test, y_train, y_test = train_test_split(selected, yD, test_size=0.2, random_state=30)\n",
    "svcD.fit(X_train, y_train)\n",
    "filename = 'svcD.sav'\n",
    "pickle.dump(svcD, open(filename, 'wb'))\n",
    "\n",
    "y_pred = svcD.predict(X_test)\n",
    "print(y_test, y_pred)\n",
    "print(classification_report(y_test, y_pred))"
   ],
   "metadata": {
    "collapsed": false,
    "ExecuteTime": {
     "end_time": "2024-02-27T16:18:37.699355900Z",
     "start_time": "2024-02-27T16:18:34.141174Z"
    }
   },
   "execution_count": 86
  },
  {
   "cell_type": "code",
   "outputs": [],
   "source": [
    "#print(accuracy_score(y_test, y_pred))\n",
    "#print(f1_score(y_test, y_pred, average='micro'))\n",
    "#print(recall_score(y_test, y_pred, average='micro'))"
   ],
   "metadata": {
    "collapsed": false,
    "ExecuteTime": {
     "end_time": "2024-02-27T16:18:42.545319100Z",
     "start_time": "2024-02-27T16:18:42.537829300Z"
    }
   },
   "execution_count": 87
  },
  {
   "cell_type": "code",
   "outputs": [
    {
     "name": "stdout",
     "output_type": "stream",
     "text": [
      "323    3\n",
      "5      2\n",
      "940    4\n",
      "485    3\n",
      "235    3\n",
      "      ..\n",
      "476    2\n",
      "845    2\n",
      "967    1\n",
      "424    5\n",
      "719    4\n",
      "Name: Walc, Length: 209, dtype: int64 [3 1 3 3 3 1 2 4 2 1 1 4 2 4 1 2 5 2 1 1 2 3 1 2 3 2 1 4 3 2 2 4 2 1 1 1 2\n",
      " 2 1 2 4 1 3 4 1 3 3 3 1 4 1 5 3 3 1 1 1 3 3 1 1 1 2 4 1 1 1 1 4 1 4 1 1 2\n",
      " 3 1 1 1 1 1 4 2 1 2 1 1 3 2 3 3 1 1 1 5 1 2 5 4 1 2 5 3 1 5 1 1 2 1 2 2 2\n",
      " 2 2 2 1 4 2 1 1 1 1 1 1 1 5 1 2 2 1 1 4 1 4 3 1 3 1 2 2 2 1 1 3 1 3 1 3 1\n",
      " 2 2 1 2 4 1 1 1 3 3 2 1 4 2 1 3 2 1 1 2 1 5 3 5 1 3 1 2 1 1 1 4 2 3 1 1 2\n",
      " 3 4 2 3 2 3 1 4 4 1 3 1 2 4 2 2 2 1 4 2 1 4 3 5]\n"
     ]
    }
   ],
   "source": [
    "from sklearn import svm\n",
    "\n",
    "svcW = svm.SVC(kernel='poly', degree=50, class_weight='balanced')\n",
    "X_train, X_test, y_train, y_test = train_test_split(selected, yW, test_size=0.2, random_state=80)\n",
    "svcW.fit(X_train, y_train)\n",
    "\n",
    "filename = 'svcW.sav'\n",
    "pickle.dump(svcW, open(filename, 'wb'))\n",
    "\n",
    "y_pred = svcW.predict(X_test)\n",
    "print(y_test, y_pred)\n",
    "# print(classification_report(y_test, y_pred))"
   ],
   "metadata": {
    "collapsed": false,
    "ExecuteTime": {
     "end_time": "2024-02-27T16:18:47.454498600Z",
     "start_time": "2024-02-27T16:18:43.057678600Z"
    }
   },
   "execution_count": 88
  },
  {
   "cell_type": "code",
   "outputs": [],
   "source": [
    "modelD = XGBClassifier(n_estimators=300, max_depth=12, max_leaves=0, learning_rate=0.05, objective='multi:softmax', booster='gbtree', colsample_bytree=1, min_child_weight=1)\n",
    "\n",
    "X_train, X_test, y_train, y_test = train_test_split(selected, yD, test_size=0.2, random_state=30)\n",
    "le = LabelEncoder()\n",
    "y_train = le.fit_transform(y_train)\n",
    "modelD.fit(X_train, y_train)\n",
    "filename = 'modelD.sav'\n",
    "pickle.dump(modelD, open(filename, 'wb'))\n",
    "\n",
    "# y_pred = modelD.predict(X_test)\n",
    "# y_pred = le.inverse_transform(y_pred)\n",
    "# print(classification_report(y_test, y_pred)) #0.9138755980861244"
   ],
   "metadata": {
    "collapsed": false,
    "ExecuteTime": {
     "end_time": "2024-02-27T16:02:34.195670900Z",
     "start_time": "2024-02-27T16:02:33.061660500Z"
    }
   },
   "execution_count": 39
  },
  {
   "cell_type": "code",
   "outputs": [
    {
     "data": {
      "text/plain": "<Axes: >"
     },
     "execution_count": 120,
     "metadata": {},
     "output_type": "execute_result"
    },
    {
     "data": {
      "text/plain": "<Figure size 1000x500 with 1 Axes>",
      "image/png": "[encoded data removed]"
     },
     "metadata": {},
     "output_type": "display_data"
    }
   ],
   "source": [
    "feature_important = modelD.get_booster().get_score(importance_type='weight')\n",
    "keys = list(feature_important.keys())\n",
    "values = list(feature_important.values())\n",
    "\n",
    "dataD = pd.DataFrame(data=values, index=keys, columns=[\"score\"]).sort_values(by = \"score\", ascending=False)\n",
    "dataD.nlargest(10, columns=\"score\").plot(kind='barh', figsize = (10,5)) ## plot top 10 features"
   ],
   "metadata": {
    "collapsed": false,
    "ExecuteTime": {
     "end_time": "2024-02-27T16:27:16.081952600Z",
     "start_time": "2024-02-27T16:27:15.906622400Z"
    }
   },
   "execution_count": 120
  },
  {
   "cell_type": "code",
   "outputs": [],
   "source": [
    "modelW = XGBClassifier(n_estimators=200, max_depth=9, learning_rate=0.05, objective='multi:softmax', booster='gbtree', min_child_weight=1, sampling_method='uniform')\n",
    "\n",
    "X_train, X_test, y_train, y_test = train_test_split(selected, yW, test_size=0.2, random_state=80)\n",
    "# Transform the labels [1,2,3,4,5] to [0,1,2,3,4] in order to fit the model\n",
    "le = LabelEncoder()\n",
    "y_train = le.fit_transform(y_train)\n",
    "modelW.fit(X_train, y_train)\n",
    "filename = 'modelW.sav'\n",
    "pickle.dump(modelW, open(filename, 'wb'))\n",
    "\n",
    "# y_pred = modelW.predict(X_test)\n",
    "# y_pred = le.inverse_transform(y_pred)\n",
    "# print(classification_report(y_test, y_pred))"
   ],
   "metadata": {
    "collapsed": false,
    "ExecuteTime": {
     "end_time": "2024-02-27T16:02:42.433237900Z",
     "start_time": "2024-02-27T16:02:40.996236800Z"
    }
   },
   "execution_count": 40
  },
  {
   "cell_type": "code",
   "outputs": [
    {
     "data": {
      "text/plain": "<Axes: >"
     },
     "execution_count": 121,
     "metadata": {},
     "output_type": "execute_result"
    },
    {
     "data": {
      "text/plain": "<Figure size 1000x500 with 1 Axes>",
      "image/png": "[encoded data removed]"
     },
     "metadata": {},
     "output_type": "display_data"
    }
   ],
   "source": [
    "feature_important = modelW.get_booster().get_score(importance_type='weight')\n",
    "keys = list(feature_important.keys())\n",
    "values = list(feature_important.values())\n",
    "\n",
    "dataW = pd.DataFrame(data=values, index=keys, columns=[\"score\"]).sort_values(by = \"score\", ascending=False)\n",
    "dataW.nlargest(10, columns=\"score\").plot(kind='barh', figsize = (10,5)) ## plot top 10 features"
   ],
   "metadata": {
    "collapsed": false,
    "ExecuteTime": {
     "end_time": "2024-02-27T16:27:19.443417100Z",
     "start_time": "2024-02-27T16:27:19.255498700Z"
    }
   },
   "execution_count": 121
  },
  {
   "cell_type": "code",
   "outputs": [],
   "source": [
    "plt.subplot()"
   ],
   "metadata": {
    "collapsed": false
   }
  },
  {
   "cell_type": "code",
   "outputs": [
    {
     "name": "stdout",
     "output_type": "stream",
     "text": [
      "              precision    recall  f1-score   support\n",
      "\n",
      "           1       0.89      0.93      0.91       146\n",
      "           2       0.81      0.76      0.78        38\n",
      "           3       0.90      0.82      0.86        11\n",
      "           4       0.00      0.00      0.00         5\n",
      "           5       0.71      0.56      0.62         9\n",
      "\n",
      "    accuracy                           0.86       209\n",
      "   macro avg       0.66      0.61      0.64       209\n",
      "weighted avg       0.85      0.86      0.85       209\n",
      "\n",
      "              precision    recall  f1-score   support\n",
      "\n",
      "           1       0.97      0.95      0.96       156\n",
      "           2       0.81      0.83      0.82        35\n",
      "           3       0.90      0.75      0.82        12\n",
      "           4       0.00      0.00      0.00         0\n",
      "           5       0.71      0.83      0.77         6\n",
      "\n",
      "    accuracy                           0.91       209\n",
      "   macro avg       0.68      0.67      0.67       209\n",
      "weighted avg       0.93      0.91      0.92       209\n"
     ]
    },
    {
     "name": "stderr",
     "output_type": "stream",
     "text": [
      "C:\\Users\\monii\\PycharmProjects\\DSGP8\\.venv\\Lib\\site-packages\\sklearn\\metrics\\_classification.py:1509: UndefinedMetricWarning: Recall is ill-defined and being set to 0.0 in labels with no true samples. Use `zero_division` parameter to control this behavior.\n",
      "  _warn_prf(average, modifier, f\"{metric.capitalize()} is\", len(result))\n",
      "C:\\Users\\monii\\PycharmProjects\\DSGP8\\.venv\\Lib\\site-packages\\sklearn\\metrics\\_classification.py:1509: UndefinedMetricWarning: Recall is ill-defined and being set to 0.0 in labels with no true samples. Use `zero_division` parameter to control this behavior.\n",
      "  _warn_prf(average, modifier, f\"{metric.capitalize()} is\", len(result))\n",
      "C:\\Users\\monii\\PycharmProjects\\DSGP8\\.venv\\Lib\\site-packages\\sklearn\\metrics\\_classification.py:1509: UndefinedMetricWarning: Recall is ill-defined and being set to 0.0 in labels with no true samples. Use `zero_division` parameter to control this behavior.\n",
      "  _warn_prf(average, modifier, f\"{metric.capitalize()} is\", len(result))\n"
     ]
    }
   ],
   "source": [
    "X_train, X_test, y_train, y_test = train_test_split(selected, yD, test_size=0.2, random_state=30)\n",
    "filenamesD = ['svcD', 'modelD']\n",
    "resD = []\n",
    "for filename in filenamesD:\n",
    "    loaded_model = pickle.load(open(filename+'.sav', 'rb'))\n",
    "    if filename == 'modelD':\n",
    "        y_pred = loaded_model.predict(X_test)\n",
    "        y_pred = le.inverse_transform(y_pred)\n",
    "        resD.append(y_pred)\n",
    "    else:\n",
    "        resD.append(loaded_model.predict(X_test))\n",
    "\n",
    "for y_pred in resD:\n",
    "    print(classification_report(y_pred, y_test))"
   ],
   "metadata": {
    "collapsed": false,
    "ExecuteTime": {
     "end_time": "2024-02-27T16:24:00.978244200Z",
     "start_time": "2024-02-27T16:24:00.895536700Z"
    }
   },
   "execution_count": 108
  },
  {
   "cell_type": "code",
   "outputs": [
    {
     "name": "stdout",
     "output_type": "stream",
     "text": [
      "              precision    recall  f1-score   support\n",
      "\n",
      "           1       0.85      0.79      0.82        87\n",
      "           2       0.69      0.67      0.68        51\n",
      "           3       0.62      0.67      0.64        36\n",
      "           4       0.76      0.88      0.81        25\n",
      "           5       0.55      0.60      0.57        10\n",
      "\n",
      "    accuracy                           0.74       209\n",
      "   macro avg       0.69      0.72      0.71       209\n",
      "weighted avg       0.75      0.74      0.74       209\n",
      "\n",
      "              precision    recall  f1-score   support\n",
      "\n",
      "           1       0.86      0.76      0.81        92\n",
      "           2       0.67      0.77      0.72        43\n",
      "           3       0.69      0.90      0.78        30\n",
      "           4       0.86      0.68      0.76        37\n",
      "           5       0.55      0.86      0.67         7\n",
      "\n",
      "    accuracy                           0.77       209\n",
      "   macro avg       0.73      0.79      0.75       209\n",
      "weighted avg       0.79      0.77      0.77       209\n"
     ]
    }
   ],
   "source": [
    "X_train, X_test, y_train, y_test = train_test_split(selected, yW, test_size=0.2, random_state=80)\n",
    "filenamesD = ['svcW', 'modelW']\n",
    "resW = []\n",
    "for filename in filenamesD:\n",
    "    loaded_model = pickle.load(open(filename+'.sav', 'rb'))\n",
    "    if filename == 'modelW':\n",
    "        y_pred = loaded_model.predict(X_test)\n",
    "        y_pred = le.inverse_transform(y_pred)\n",
    "        resW.append(y_pred)\n",
    "    else:\n",
    "        resW.append(loaded_model.predict(X_test))\n",
    "\n",
    "for y_pred in resW:\n",
    "    print(classification_report(y_pred, y_test))"
   ],
   "metadata": {
    "collapsed": false,
    "ExecuteTime": {
     "end_time": "2024-02-27T16:23:58.015886600Z",
     "start_time": "2024-02-27T16:23:57.928912300Z"
    }
   },
   "execution_count": 107
  },
  {
   "cell_type": "code",
   "outputs": [],
   "source": [
    "# # Use Grid Search CV to find the best parameters for xgboost model\n",
    "# params = {\n",
    "#         'min_child_weight': [1, 5, 10],\n",
    "#         'gamma': [0.5, 1, 1.5, 2, 5],\n",
    "#         'subsample': [0.6, 0.8, 1.0],\n",
    "#         'colsample_bytree': [0.6, 0.8, 1.0],\n",
    "#         'max_depth': [3, 4, 5]\n",
    "# }\n",
    "# \n",
    "# xgbc = XGBClassifier()\n",
    "# y_train = le.fit_transform(y_train)\n",
    "# #clf = GridSearchCV(estimator=xgbc, param_grid=param_grid, scoring='accuracy', return_train_score=True, verbose=1, cv=3)\n",
    "# grid_search = GridSearchCV(\n",
    "#     estimator=xgbc,\n",
    "#     param_grid=params,\n",
    "#     scoring = 'accuracy',\n",
    "#     n_jobs = 10,\n",
    "#     cv = 5,\n",
    "#     verbose=True,\n",
    "# )\n",
    "# grid_search.fit(X_train, y_train)"
   ],
   "metadata": {
    "collapsed": false,
    "ExecuteTime": {
     "start_time": "2024-02-26T13:54:23.050417Z"
    }
   },
   "execution_count": null
  },
  {
   "cell_type": "code",
   "outputs": [],
   "source": [
    "# grid_search.best_params_"
   ],
   "metadata": {
    "collapsed": false,
    "ExecuteTime": {
     "start_time": "2024-02-26T13:54:23.053786Z"
    }
   },
   "execution_count": null
  },
  {
   "cell_type": "markdown",
   "source": [
    "<a style='text-decoration:none;line-height:16px;display:flex;color:#5B5B62;padding:10px;justify-content:end;' href='https://deepnote.com?utm_source=created-in-deepnote-cell&projectId=2803e120-7517-421e-b340-ad1aa2504552' target=\"_blank\">\n",
    "<img alt='Created in deepnote.com' style='display:inline;max-height:16px;margin:0px;margin-right:7.5px;' src='data:image/svg+xml;base64,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' > </img>\n",
    "Created in <span style='font-weight:600;margin-left:4px;'>Deepnote</span></a>"
   ],
   "metadata": {
    "created_in_deepnote_cell": true,
    "deepnote_cell_type": "markdown"
   }
  }
 ],
 "nbformat": 4,
 "nbformat_minor": 0,
 "metadata": {
  "deepnote_persisted_session": {
   "createdAt": "2024-02-13T19:29:15.709Z"
  },
  "deepnote_notebook_id": "c22d004bc42544f48cd8f4d3fd8a15ef",
  "deepnote_execution_queue": [],
  "kernelspec": {
   "name": "python3",
   "language": "python",
   "display_name": "Python 3 (ipykernel)"
  }
 }
}
