{
 "cells": [
  {
   "cell_type": "markdown",
   "source": [
    "# Preprocessing data"
   ],
   "metadata": {
    "collapsed": false
   }
  },
  {
   "cell_type": "code",
   "outputs": [],
   "source": [
    "import numpy as np\n",
    "import pandas as pd\n",
    "import seaborn as sns\n",
    "import matplotlib.pyplot as plt\n",
    "\n",
    "df = pd.read_csv('student.csv')\n",
    "\n",
    "# sex F(0) 591 M(1) 453\n",
    "# famsize GT3(0) 738 LE3(1) 306\n",
    "# Pstatus A(0) 121 T(1) 923\n",
    "# Mjob at_home(0) 194 health(1) 82 other(2) 399 service(3) 239 teacher(4) 130\n",
    "# Fjob at_home(0) 62 health(1) 41 other(2) 584 service(3) 292 teacher(4) 65\n",
    "# higher yes(1) 955 no(0) 89\n",
    "# romantic yes(1) 371 no(0) 673"
   ],
   "metadata": {
    "collapsed": false,
    "ExecuteTime": {
     "end_time": "2024-03-07T16:01:32.296544Z",
     "start_time": "2024-03-07T16:01:32.261207Z"
    }
   },
   "execution_count": 5
  },
  {
   "cell_type": "code",
   "outputs": [],
   "source": [
    "from sklearn.preprocessing import OrdinalEncoder\n",
    "from sklearn.preprocessing import LabelEncoder\n",
    "from sklearn.utils import Bunch\n",
    "\n",
    "columns_name = ['sex', 'famsize', 'Pstatus', 'higher', 'romantic']\n",
    "encoder = OrdinalEncoder()\n",
    "le = LabelEncoder()\n",
    "df[columns_name] = encoder.fit_transform(df[columns_name])\n",
    "\n",
    "# df['Dalc'] = le.fit_transform(df['Dalc'])\n",
    "# df['Walc'] = le.fit_transform(df['Walc'])"
   ],
   "metadata": {
    "collapsed": false,
    "ExecuteTime": {
     "end_time": "2024-03-07T16:01:32.877527Z",
     "start_time": "2024-03-07T16:01:32.861297Z"
    }
   },
   "execution_count": 6
  },
  {
   "cell_type": "code",
   "outputs": [],
   "source": [
    "selected_columns = ['sex', 'age', 'Pstatus', 'famrel', 'Medu', 'Mjob', 'Fedu', 'Fjob', 'goout', 'health', 'Dalc', 'Walc']\n",
    "df = df[selected_columns].copy()"
   ],
   "metadata": {
    "collapsed": false,
    "ExecuteTime": {
     "end_time": "2024-03-07T16:01:33.373860Z",
     "start_time": "2024-03-07T16:01:33.337036Z"
    }
   },
   "execution_count": 7
  },
  {
   "cell_type": "code",
   "outputs": [],
   "source": [
    "X = df[['sex', 'age', 'Pstatus', 'famrel', 'Medu', 'Mjob', 'Fedu', 'Fjob', 'goout', 'health']]\n",
    "X = pd.get_dummies(X, columns=['Mjob', 'Fjob'])\n",
    "# \n",
    "yD = df['Dalc']\n",
    "yW = df['Walc']\n",
    "# selected = X[list(X.columns)]\n",
    "# interestCols = ['sex', 'age', 'Pstatus', 'famrel', 'Medu', 'Fedu', 'goout', 'health'\n",
    "#                       'Mjob_at_home', 'Mjob_health', 'Mjob_other', 'Mjob_services', 'Mjob_teacher',\n",
    "#                       'Fjob_at_home', 'Fjob_health', 'Fjob_other', 'Fjob_services', 'Fjob_teacher']"
   ],
   "metadata": {
    "collapsed": false,
    "ExecuteTime": {
     "end_time": "2024-03-07T16:01:33.747291Z",
     "start_time": "2024-03-07T16:01:33.721779Z"
    }
   },
   "execution_count": 8
  },
  {
   "cell_type": "code",
   "outputs": [],
   "source": [
    "datasetD = {\n",
    "    'data': X,\n",
    "    'target': yD,\n",
    "    'DESCR': 'Student alcohol consumption during weekday',\n",
    "    'feature_names': ['sex', 'age', 'Pstatus', 'famrel', 'Medu', 'Fedu', 'goout', 'health',\n",
    "                      'Mjob_at_home', 'Mjob_health', 'Mjob_other', 'Mjob_services', 'Mjob_teacher',\n",
    "                      'Fjob_at_home', 'Fjob_health', 'Fjob_other', 'Fjob_services', 'Fjob_teacher'],\n",
    "    'target_names': ['very low', 'low', 'moderate', 'high', 'very high'],\n",
    "}\n",
    "\n",
    "datasetW = {\n",
    "    'data': X,\n",
    "    'target': yW,\n",
    "    'DESCR': 'Student alcohol consumption during weekday',\n",
    "    'feature_names': ['sex', 'age', 'Pstatus', 'famrel', 'Medu', 'Fedu', 'goout', 'health',\n",
    "                      'Mjob_at_home', 'Mjob_health', 'Mjob_other', 'Mjob_services', 'Mjob_teacher',\n",
    "                      'Fjob_at_home', 'Fjob_health', 'Fjob_other', 'Fjob_services', 'Fjob_teacher'],\n",
    "    'target_names': ['very low', 'low', 'moderate', 'high', 'very high'],\n",
    "}\n",
    "\n",
    "\n",
    "bunchD = Bunch(**datasetD)\n",
    "bunchW = Bunch(**datasetW)\n",
    "\n",
    "X = bunchD.data\n",
    "yD = bunchD.target\n",
    "yW = bunchW.target\n",
    "\n",
    "feature_names = bunchD.feature_names\n",
    "class_names = bunchD.target_names"
   ],
   "metadata": {
    "collapsed": false,
    "ExecuteTime": {
     "end_time": "2024-03-07T16:01:34.210857Z",
     "start_time": "2024-03-07T16:01:34.116889Z"
    }
   },
   "execution_count": 9
  },
  {
   "cell_type": "markdown",
   "source": [
    "Import the important libraries of our modeling process"
   ],
   "metadata": {
    "collapsed": false
   }
  },
  {
   "cell_type": "code",
   "outputs": [],
   "source": [
    "from sklearn.model_selection import train_test_split\n",
    "from sklearn.metrics import accuracy_score, f1_score, recall_score, classification_report\n",
    "from sklearn.model_selection import GridSearchCV\n",
    "\n",
    "# Import used models\n",
    "from xgboost import XGBClassifier\n",
    "from sklearn import svm\n",
    "from sklearn.ensemble import RandomForestClassifier\n",
    "from sklearn.tree import plot_tree\n",
    "import pickle"
   ],
   "metadata": {
    "collapsed": false,
    "ExecuteTime": {
     "end_time": "2024-03-07T16:05:31.716088Z",
     "start_time": "2024-03-07T16:05:31.671658Z"
    }
   },
   "execution_count": 15
  },
  {
   "cell_type": "markdown",
   "source": [
    "\n",
    "# SVM"
   ],
   "metadata": {
    "collapsed": false
   }
  },
  {
   "cell_type": "code",
   "outputs": [
    {
     "name": "stdout",
     "output_type": "stream",
     "text": [
      "              precision    recall  f1-score   support\n",
      "\n",
      "           1       0.93      0.89      0.91       153\n",
      "           2       0.76      0.81      0.78        36\n",
      "           3       0.82      0.90      0.86        10\n",
      "           4       0.00      0.00      0.00         3\n",
      "           5       0.56      0.71      0.62         7\n",
      "\n",
      "    accuracy                           0.86       209\n",
      "   macro avg       0.61      0.66      0.64       209\n",
      "weighted avg       0.87      0.86      0.86       209\n"
     ]
    }
   ],
   "source": [
    "svcD = svm.SVC(kernel='poly', degree=50, class_weight='balanced')\n",
    "X_train, X_test, y_train, y_test = train_test_split(X, yD, test_size=0.2, random_state=30)\n",
    "svcD.fit(X_train, y_train)\n",
    "filename = 'svcD.sav'\n",
    "pickle.dump(svcD, open(filename, 'wb'))\n",
    "\n",
    "y_pred = svcD.predict(X_test)\n",
    "# print(y_test, y_pred)\n",
    "print(classification_report(y_test, y_pred)) #0.86"
   ],
   "metadata": {
    "collapsed": false,
    "ExecuteTime": {
     "end_time": "2024-03-07T16:05:40.426516Z",
     "start_time": "2024-03-07T16:05:32.783777Z"
    }
   },
   "execution_count": 16
  },
  {
   "cell_type": "code",
   "outputs": [],
   "source": [
    "#print(accuracy_score(y_test, y_pred))\n",
    "#print(f1_score(y_test, y_pred, average='micro'))\n",
    "#print(recall_score(y_test, y_pred, average='micro'))"
   ],
   "metadata": {
    "collapsed": false,
    "ExecuteTime": {
     "end_time": "2024-03-07T16:05:40.429213Z",
     "start_time": "2024-03-07T16:05:40.416084Z"
    }
   },
   "execution_count": 17
  },
  {
   "cell_type": "code",
   "outputs": [
    {
     "name": "stdout",
     "output_type": "stream",
     "text": [
      "              precision    recall  f1-score   support\n",
      "\n",
      "           1       0.79      0.85      0.82        81\n",
      "           2       0.67      0.69      0.68        49\n",
      "           3       0.67      0.62      0.64        39\n",
      "           4       0.88      0.76      0.81        29\n",
      "           5       0.60      0.55      0.57        11\n",
      "\n",
      "    accuracy                           0.74       209\n",
      "   macro avg       0.72      0.69      0.71       209\n",
      "weighted avg       0.74      0.74      0.74       209\n"
     ]
    }
   ],
   "source": [
    "from sklearn import svm\n",
    "\n",
    "svcW = svm.SVC(kernel='poly', degree=50, class_weight='balanced')\n",
    "X_train, X_test, y_train, y_test = train_test_split(X, yW, test_size=0.2, random_state=80)\n",
    "svcW.fit(X_train, y_train)\n",
    "\n",
    "filename = 'svcW.sav'\n",
    "pickle.dump(svcW, open(filename, 'wb'))\n",
    "\n",
    "y_pred = svcW.predict(X_test)\n",
    "# print(y_test, y_pred)\n",
    "print(classification_report(y_test, y_pred)) # 0.74"
   ],
   "metadata": {
    "collapsed": false,
    "ExecuteTime": {
     "end_time": "2024-03-07T16:05:45.666775Z",
     "start_time": "2024-03-07T16:05:40.432343Z"
    }
   },
   "execution_count": 18
  },
  {
   "cell_type": "markdown",
   "source": [
    "# Random Forest Tree"
   ],
   "metadata": {
    "collapsed": false
   }
  },
  {
   "cell_type": "code",
   "outputs": [
    {
     "name": "stdout",
     "output_type": "stream",
     "text": [
      "accuracy: 0.9138755980861244\n",
      "              precision    recall  f1-score   support\n",
      "\n",
      "           1       0.93      0.99      0.96       149\n",
      "           2       0.97      0.79      0.87        42\n",
      "           3       0.73      0.67      0.70        12\n",
      "           5       0.50      0.33      0.40         6\n",
      "\n",
      "    accuracy                           0.91       209\n",
      "   macro avg       0.78      0.69      0.73       209\n",
      "weighted avg       0.91      0.91      0.91       209\n"
     ]
    }
   ],
   "source": [
    "X_train, X_test, y_train, y_test = train_test_split(X, yD, test_size=0.2, random_state=80)\n",
    "\n",
    "rftD = RandomForestClassifier(max_depth=9, n_estimators=400, class_weight='balanced', random_state=30)\n",
    "rftD.fit(X_train, y_train)\n",
    "filename = 'rftD.sav'\n",
    "pickle.dump(rftD, open(filename, 'wb'))\n",
    "y_pred = rftD.predict(X_test)\n",
    "\n",
    "acc = accuracy_score(y_test, y_pred)\n",
    "print(\"accuracy:\", acc) #0.9138755980861244\n",
    "print(classification_report(y_test, y_pred))"
   ],
   "metadata": {
    "collapsed": false,
    "ExecuteTime": {
     "end_time": "2024-03-07T16:05:58.961844Z",
     "start_time": "2024-03-07T16:05:55.835676Z"
    }
   },
   "execution_count": 19
  },
  {
   "cell_type": "code",
   "outputs": [],
   "source": [
    "# tree_to_plot = 2 \n",
    "# \n",
    "# plt.figure(figsize=(30,20))\n",
    "# plt.rcParams['lines.linewidth'] = 0.3\n",
    "# plot_tree(rftD.estimators_[tree_to_plot], feature_names=feature_names, filled=True, class_names=class_names)"
   ],
   "metadata": {
    "collapsed": false,
    "ExecuteTime": {
     "end_time": "2024-03-07T16:05:58.964684Z",
     "start_time": "2024-03-07T16:05:58.928153Z"
    }
   },
   "execution_count": 20
  },
  {
   "cell_type": "code",
   "outputs": [
    {
     "name": "stdout",
     "output_type": "stream",
     "text": [
      "accuracy: 0.7655502392344498\n",
      "              precision    recall  f1-score   support\n",
      "\n",
      "           1       0.77      0.88      0.82        81\n",
      "           2       0.80      0.65      0.72        49\n",
      "           3       0.71      0.62      0.66        39\n",
      "           4       0.76      0.86      0.81        29\n",
      "           5       0.80      0.73      0.76        11\n",
      "\n",
      "    accuracy                           0.77       209\n",
      "   macro avg       0.77      0.75      0.75       209\n",
      "weighted avg       0.77      0.77      0.76       209\n"
     ]
    }
   ],
   "source": [
    "X_train, X_test, y_train, y_test = train_test_split(X, yW, test_size=0.2, random_state=80)\n",
    "rftW = RandomForestClassifier(max_depth=9, n_estimators=400, class_weight='balanced', random_state=80)\n",
    "rftW.fit(X_train, y_train)\n",
    "filename = 'rftW.sav'\n",
    "pickle.dump(rftW, open(filename, 'wb'))\n",
    "\n",
    "y_pred = rftW.predict(X_test)\n",
    "acc = accuracy_score(y_test, y_pred)\n",
    "print(\"accuracy:\", acc) # 0.7655502392344498\n",
    "print(classification_report(y_test, y_pred))"
   ],
   "metadata": {
    "collapsed": false,
    "ExecuteTime": {
     "end_time": "2024-03-07T16:06:01.272138Z",
     "start_time": "2024-03-07T16:05:58.942684Z"
    }
   },
   "execution_count": 21
  },
  {
   "cell_type": "code",
   "outputs": [],
   "source": [
    "# tree_to_plot = 2 \n",
    "# \n",
    "# plt.figure(figsize=(30,20))\n",
    "# plt.rcParams['lines.linewidth'] = 0.3\n",
    "# plot_tree(rftW.estimators_[tree_to_plot], feature_names=feature_names, filled=True, class_names=class_names)"
   ],
   "metadata": {
    "collapsed": false,
    "ExecuteTime": {
     "end_time": "2024-03-07T16:06:01.312988Z",
     "start_time": "2024-03-07T16:06:01.262799Z"
    }
   },
   "execution_count": 22
  },
  {
   "cell_type": "markdown",
   "source": [
    "# XGBoost"
   ],
   "metadata": {
    "collapsed": false
   }
  },
  {
   "cell_type": "code",
   "outputs": [
    {
     "name": "stdout",
     "output_type": "stream",
     "text": [
      "              precision    recall  f1-score   support\n",
      "\n",
      "           0       0.95      0.97      0.96       153\n",
      "           1       0.83      0.81      0.82        36\n",
      "           2       0.75      0.90      0.82        10\n",
      "           3       0.00      0.00      0.00         3\n",
      "           4       0.83      0.71      0.77         7\n",
      "\n",
      "    accuracy                           0.91       209\n",
      "   macro avg       0.67      0.68      0.67       209\n",
      "weighted avg       0.90      0.91      0.91       209\n"
     ]
    },
    {
     "name": "stderr",
     "output_type": "stream",
     "text": [
      "/Users/monica/Desktop/DSGP8/venv/lib/python3.11/site-packages/sklearn/metrics/_classification.py:1509: UndefinedMetricWarning: Precision is ill-defined and being set to 0.0 in labels with no predicted samples. Use `zero_division` parameter to control this behavior.\n",
      "  _warn_prf(average, modifier, f\"{metric.capitalize()} is\", len(result))\n",
      "/Users/monica/Desktop/DSGP8/venv/lib/python3.11/site-packages/sklearn/metrics/_classification.py:1509: UndefinedMetricWarning: Precision is ill-defined and being set to 0.0 in labels with no predicted samples. Use `zero_division` parameter to control this behavior.\n",
      "  _warn_prf(average, modifier, f\"{metric.capitalize()} is\", len(result))\n",
      "/Users/monica/Desktop/DSGP8/venv/lib/python3.11/site-packages/sklearn/metrics/_classification.py:1509: UndefinedMetricWarning: Precision is ill-defined and being set to 0.0 in labels with no predicted samples. Use `zero_division` parameter to control this behavior.\n",
      "  _warn_prf(average, modifier, f\"{metric.capitalize()} is\", len(result))\n"
     ]
    }
   ],
   "source": [
    "modelD = XGBClassifier(n_estimators=300, max_depth=12, max_leaves=0, learning_rate=0.05, objective='multi:softmax', booster='gbtree', colsample_bytree=1, min_child_weight=1, importance_type='total_gain')\n",
    "\n",
    "X_train, X_test, y_train, y_test = train_test_split(X, yD, test_size=0.2, random_state=30)\n",
    "le = LabelEncoder()\n",
    "y_train = le.fit_transform(y_train)\n",
    "modelD.fit(X_train, y_train)\n",
    "filename = 'xgboostD.sav'\n",
    "pickle.dump(modelD, open(filename, 'wb'))\n",
    "\n",
    "y_pred = modelD.predict(X_test)\n",
    "y_pred = le.inverse_transform(y_pred)\n",
    "print(classification_report(y_test, y_pred)) #0.9138755980861244"
   ],
   "metadata": {
    "collapsed": false,
    "ExecuteTime": {
     "end_time": "2024-03-07T18:44:24.285124Z",
     "start_time": "2024-03-07T18:44:17.479877Z"
    }
   },
   "execution_count": 88
  },
  {
   "cell_type": "code",
   "outputs": [
    {
     "name": "stdout",
     "output_type": "stream",
     "text": [
      "              precision    recall  f1-score   support\n",
      "\n",
      "           0       0.76      0.86      0.81        81\n",
      "           1       0.77      0.67      0.72        49\n",
      "           2       0.90      0.69      0.78        39\n",
      "           3       0.68      0.86      0.76        29\n",
      "           4       0.86      0.55      0.67        11\n",
      "\n",
      "    accuracy                           0.77       209\n",
      "   macro avg       0.79      0.73      0.75       209\n",
      "weighted avg       0.78      0.77      0.77       209\n"
     ]
    }
   ],
   "source": [
    "modelW = XGBClassifier(n_estimators=200, max_depth=9, learning_rate=0.05, objective='multi:softmax', booster='gbtree', min_child_weight=1, sampling_method='uniform', importance_type='total_gain')\n",
    "\n",
    "X_train, X_test, y_train, y_test = train_test_split(X, yW, test_size=0.2, random_state=80)\n",
    "# Transform the labels [1,2,3,4,5] to [0,1,2,3,4] in order to fit the model\n",
    "le = LabelEncoder()\n",
    "y_train = le.fit_transform(y_train)\n",
    "modelW.fit(X_train, y_train)\n",
    "filename = 'xgboostW.sav'\n",
    "pickle.dump(modelW, open(filename, 'wb'))\n",
    "\n",
    "y_pred = modelW.predict(X_test)\n",
    "y_pred = le.inverse_transform(y_pred)\n",
    "print(classification_report(y_test, y_pred))"
   ],
   "metadata": {
    "collapsed": false,
    "ExecuteTime": {
     "end_time": "2024-03-07T18:44:45.160943Z",
     "start_time": "2024-03-07T18:44:30.022001Z"
    }
   },
   "execution_count": 89
  },
  {
   "cell_type": "code",
   "outputs": [],
   "source": [
    "# # Use Grid Search CV to find the best parameters for xgboost model\n",
    "# params = {\n",
    "#         'min_child_weight': [1, 5, 10],\n",
    "#         'gamma': [0.5, 1, 1.5, 2, 5],\n",
    "#         'subsample': [0.6, 0.8, 1.0],\n",
    "#         'colsample_bytree': [0.6, 0.8, 1.0],\n",
    "#         'max_depth': [3, 4, 5]\n",
    "# }\n",
    "# \n",
    "# xgbc = XGBClassifier()\n",
    "# y_train = le.fit_transform(y_train)\n",
    "# #clf = GridSearchCV(estimator=xgbc, param_grid=param_grid, scoring='accuracy', return_train_score=True, verbose=1, cv=3)\n",
    "# grid_search = GridSearchCV(\n",
    "#     estimator=xgbc,\n",
    "#     param_grid=params,\n",
    "#     scoring = 'accuracy',\n",
    "#     n_jobs = 10,\n",
    "#     cv = 5,\n",
    "#     verbose=True,\n",
    "# )\n",
    "# grid_search.fit(X_train, y_train)"
   ],
   "metadata": {
    "collapsed": false,
    "ExecuteTime": {
     "end_time": "2024-03-04T23:43:19.108694600Z",
     "start_time": "2024-03-04T23:43:19.089716600Z"
    }
   },
   "execution_count": 19
  },
  {
   "cell_type": "code",
   "outputs": [],
   "source": [
    "# grid_search.best_params_"
   ],
   "metadata": {
    "collapsed": false,
    "ExecuteTime": {
     "end_time": "2024-03-04T23:43:19.110689600Z",
     "start_time": "2024-03-04T23:43:19.095836300Z"
    }
   },
   "execution_count": 20
  },
  {
   "cell_type": "markdown",
   "source": [
    "# Evaluating performance of different models"
   ],
   "metadata": {
    "collapsed": false
   }
  },
  {
   "cell_type": "code",
   "outputs": [],
   "source": [
    "from sklearn import model_selection\n"
   ],
   "metadata": {
    "collapsed": false,
    "ExecuteTime": {
     "end_time": "2024-03-07T16:06:48.948310Z",
     "start_time": "2024-03-07T16:06:48.869133Z"
    }
   },
   "execution_count": 25
  },
  {
   "cell_type": "code",
   "outputs": [],
   "source": [
    "# Preparing evaluation variables\n",
    "resultsW = []\n",
    "resultsD = []\n",
    "seedW = 80\n",
    "seedD = 30\n",
    "names = ['SVM', 'RandomForest', 'XGBoost']\n",
    "scoring = 'accuracy'\n",
    "modelsW = ['svcW', 'rftW']\n",
    "modelsD = ['svcD', 'rftD']\n",
    "le = LabelEncoder()"
   ],
   "metadata": {
    "collapsed": false,
    "ExecuteTime": {
     "end_time": "2024-03-07T16:06:49.353754Z",
     "start_time": "2024-03-07T16:06:49.284174Z"
    }
   },
   "execution_count": 26
  },
  {
   "cell_type": "code",
   "outputs": [
    {
     "name": "stdout",
     "output_type": "stream",
     "text": [
      "svcW: 0.751850 (0.036371)\n",
      "rftW: 0.722106 (0.043249)\n",
      "xgboost: 0.773874 (0.038361)\n"
     ]
    }
   ],
   "source": [
    "# Evaluating models for weekend alcohol consumption\n",
    "for model in modelsW:\n",
    "    loaded_model = pickle.load(open(model+'.sav', 'rb'))\n",
    "    kfold = model_selection.KFold(n_splits=10, random_state=seedW, shuffle=True)\n",
    "    cv_results = model_selection.cross_val_score(loaded_model, X, yW, cv=kfold, scoring=scoring)\n",
    "    resultsW.append(cv_results)\n",
    "    msg = \"%s: %f (%f)\" % (model, cv_results.mean(), cv_results.std())\n",
    "    print(msg)\n",
    "\n",
    "loaded_model = pickle.load(open('xgboostW.sav', 'rb'))\n",
    "kfold = model_selection.KFold(n_splits=10, random_state=seedW, shuffle=True)\n",
    "yW = le.fit_transform(yW)\n",
    "cv_results = model_selection.cross_val_score(loaded_model, X, yW, cv=kfold, scoring=scoring)\n",
    "resultsW.append(cv_results)\n",
    "\n",
    "msg = \"%s: %f (%f)\" % ('xgboost', cv_results.mean(), cv_results.std())\n",
    "print(msg)"
   ],
   "metadata": {
    "collapsed": false,
    "ExecuteTime": {
     "end_time": "2024-03-07T16:08:27.369577Z",
     "start_time": "2024-03-07T16:06:50.390513Z"
    }
   },
   "execution_count": 27
  },
  {
   "cell_type": "code",
   "outputs": [
    {
     "data": {
      "text/plain": "<Figure size 640x480 with 1 Axes>",
      "image/png": "[encoded data removed]"
     },
     "metadata": {},
     "output_type": "display_data"
    }
   ],
   "source": [
    "# boxplot algorithm comparison\n",
    "fig = plt.figure()\n",
    "fig.suptitle('Algorithm comparison for alcohol consumption at weekend')\n",
    "ax = fig.add_subplot(111)\n",
    "plt.boxplot(resultsW)\n",
    "ax.set_xticklabels(names)\n",
    "plt.ylabel('Accuracy')\n",
    "plt.savefig('boxplotWeekend.png')\n",
    "plt.show()"
   ],
   "metadata": {
    "collapsed": false,
    "ExecuteTime": {
     "end_time": "2024-03-07T17:10:02.346600Z",
     "start_time": "2024-03-07T17:10:02.050264Z"
    }
   },
   "execution_count": 29
  },
  {
   "cell_type": "code",
   "outputs": [
    {
     "name": "stdout",
     "output_type": "stream",
     "text": [
      "svcD: 0.836273 (0.043785)\n",
      "rftD: 0.855330 (0.045135)\n",
      "xgboost: 0.854386 (0.038067)\n"
     ]
    }
   ],
   "source": [
    "# Evaluating models for weekend alcohol consumption\n",
    "for model in modelsD:\n",
    "    loaded_model = pickle.load(open(model+'.sav', 'rb'))\n",
    "    kfold = model_selection.KFold(n_splits=10, random_state=seedD, shuffle=True)\n",
    "    cv_results = model_selection.cross_val_score(loaded_model, X, yD, cv=kfold, scoring=scoring)\n",
    "    resultsD.append(cv_results)\n",
    "\n",
    "    msg = \"%s: %f (%f)\" % (model, cv_results.mean(), cv_results.std())\n",
    "    print(msg)\n",
    "\n",
    "loaded_model = pickle.load(open('xgboostD.sav', 'rb'))\n",
    "kfold = model_selection.KFold(n_splits=10, random_state=seedD, shuffle=True)\n",
    "yD = le.fit_transform(yD)\n",
    "cv_results = model_selection.cross_val_score(loaded_model, X, yD, cv=kfold, scoring=scoring)\n",
    "resultsD.append(cv_results)\n",
    "# namesD.append('xgboost')\n",
    "\n",
    "msg = \"%s: %f (%f)\" % ('xgboost', cv_results.mean(), cv_results.std())\n",
    "print(msg)"
   ],
   "metadata": {
    "collapsed": false,
    "ExecuteTime": {
     "end_time": "2024-03-07T17:11:32.694169Z",
     "start_time": "2024-03-07T17:10:08.938653Z"
    }
   },
   "execution_count": 30
  },
  {
   "cell_type": "code",
   "outputs": [
    {
     "data": {
      "text/plain": "<Figure size 640x480 with 1 Axes>",
      "image/png": "[encoded data removed]"
     },
     "metadata": {},
     "output_type": "display_data"
    }
   ],
   "source": [
    "# boxplot algorithm comparison\n",
    "fig = plt.figure()\n",
    "fig.suptitle('Algorithm comparison for alcohol consumption at weekday')\n",
    "ax = fig.add_subplot(111)\n",
    "plt.boxplot(resultsD)\n",
    "ax.set_xticklabels(names)\n",
    "plt.ylabel('Accuracy')\n",
    "plt.savefig('boxplotWeekday.png')\n",
    "plt.show()"
   ],
   "metadata": {
    "collapsed": false,
    "ExecuteTime": {
     "end_time": "2024-03-07T17:13:31.920839Z",
     "start_time": "2024-03-07T17:13:31.601798Z"
    }
   },
   "execution_count": 31
  },
  {
   "cell_type": "code",
   "outputs": [],
   "source": [
    "from xgboost import plot_importance\n",
    "from sklearn.inspection import permutation_importance\n",
    "xgboostD = pickle.load(open('xgboostD.sav', 'rb'))\n",
    "svmD = pickle.load(open('svcD.sav', 'rb'))\n",
    "rftD = pickle.load(open('rftD.sav', 'rb'))\n",
    "xgbD_importances = xgboostD.feature_importances_\n",
    "xgbD_importances = pd.Series(xgbD_importances, index=X.columns).sort_values()\n",
    "rftD_importances = rftD.feature_importances_\n",
    "rftD_importances = pd.Series(rftD_importances, index=X.columns).sort_values()\n"
   ],
   "metadata": {
    "collapsed": false,
    "ExecuteTime": {
     "end_time": "2024-03-07T19:02:12.822217Z",
     "start_time": "2024-03-07T19:02:12.476767Z"
    }
   },
   "execution_count": 119
  },
  {
   "cell_type": "code",
   "outputs": [
    {
     "data": {
      "text/plain": "sex             -0.007656\nage             -0.006699\nPstatus         -0.004785\nfamrel          -0.004785\nMedu            -0.003828\nFedu             0.000957\ngoout            0.001914\nhealth           0.001914\nMjob_at_home     0.003828\nMjob_health      0.003828\nMjob_other       0.005742\nMjob_services    0.005742\nMjob_teacher     0.007656\nFjob_at_home     0.009569\nFjob_health      0.010526\nFjob_other       0.011483\nFjob_services    0.014354\nFjob_teacher     0.030622\ndtype: float64"
     },
     "execution_count": 127,
     "metadata": {},
     "output_type": "execute_result"
    }
   ],
   "source": [
    "svmD_importances = permutation_importance(svmD, X_test, y_test)\n",
    "sorted_idx = svmD_importances.importances_mean.argsort()\n",
    "svmD_importances = pd.Series(svmD_importances.importances_mean[sorted_idx], index=X.columns)\n",
    "svmD_importances"
   ],
   "metadata": {
    "collapsed": false,
    "ExecuteTime": {
     "end_time": "2024-03-07T19:12:51.886569Z",
     "start_time": "2024-03-07T19:12:48.955611Z"
    }
   },
   "execution_count": 127
  },
  {
   "cell_type": "code",
   "outputs": [],
   "source": [
    "\n"
   ],
   "metadata": {
    "collapsed": false,
    "ExecuteTime": {
     "end_time": "2024-03-07T19:02:14.963107Z",
     "start_time": "2024-03-07T19:02:14.904525Z"
    }
   },
   "execution_count": 121
  },
  {
   "cell_type": "code",
   "outputs": [
    {
     "data": {
      "text/plain": "Text(0.5, 0, 'Gain')"
     },
     "execution_count": 128,
     "metadata": {},
     "output_type": "execute_result"
    },
    {
     "data": {
      "text/plain": "<Figure size 640x480 with 1 Axes>",
      "image/png": "[encoded data removed]"
     },
     "metadata": {},
     "output_type": "display_data"
    }
   ],
   "source": [
    "data = {\"XGBoost\": xgbD_importances, \"RandomForest\": rftD_importances, \"SVM\": svmD_importances}\n",
    "feature_importances = pd.DataFrame(data)\n",
    "feature_importances.nlargest(20, columns=feature_importances.columns).plot(kind='barh')\n",
    "plt.title(\"Feature importance at weekday\")\n",
    "plt.xlabel('Gain')"
   ],
   "metadata": {
    "collapsed": false,
    "ExecuteTime": {
     "end_time": "2024-03-07T19:13:15.908505Z",
     "start_time": "2024-03-07T19:13:14.010670Z"
    }
   },
   "execution_count": 128
  },
  {
   "cell_type": "code",
   "outputs": [],
   "source": [
    "from sklearn.inspection import permutation_importance\n",
    "r = permutation_importance(rftD, X, yD, n_repeats=30, random_state=seedD)\n",
    "for i in r.importances_mean.argsort()[::-1]:\n",
    "    if r.importances_mean[i] - 2 * r.importances_std[i] > 0:\n",
    "         print(feature_names[i],r.importances_mean[i], r.importances_std[i])"
   ],
   "metadata": {
    "collapsed": false,
    "ExecuteTime": {
     "start_time": "2024-03-04T23:45:58.523591600Z"
    }
   },
   "execution_count": null
  },
  {
   "cell_type": "code",
   "outputs": [],
   "source": [
    "global_importances_random = pd.Series(rftD.feature_importances_, index=X_train.columns)\n",
    "global_importances_random.sort_values(ascending=True, inplace=True)"
   ],
   "metadata": {
    "collapsed": false,
    "ExecuteTime": {
     "start_time": "2024-03-04T23:45:58.525587300Z"
    }
   },
   "execution_count": null
  },
  {
   "cell_type": "markdown",
   "source": [
    "Permutation importance of the features\n",
    "Comparison of training and testing set"
   ],
   "metadata": {
    "collapsed": false
   }
  }
 ],
 "nbformat": 4,
 "nbformat_minor": 0,
 "metadata": {
  "deepnote_persisted_session": {
   "createdAt": "2024-02-13T19:29:15.709Z"
  },
  "deepnote_notebook_id": "c22d004bc42544f48cd8f4d3fd8a15ef",
  "deepnote_execution_queue": [],
  "kernelspec": {
   "name": "python3",
   "language": "python",
   "display_name": "Python 3 (ipykernel)"
  }
 }
}
