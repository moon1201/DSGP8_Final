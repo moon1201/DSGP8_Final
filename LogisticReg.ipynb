{
 "cells": [
  {
   "cell_type": "code",
   "outputs": [],
   "source": [
    "# Importing modules and libraries for our modeling\n",
    "from sklearn import linear_model\n",
    "from sklearn.model_selection import train_test_split\n",
    "from sklearn.metrics import accuracy_score, f1_score, recall_score, classification_report\n",
    "from sklearn.feature_selection import SequentialFeatureSelector\n",
    "from sklearn.model_selection import GridSearchCV\n",
    "from xgboost import XGBClassifier\n",
    "from sklearn.preprocessing import LabelEncoder\n",
    "import pickle"
   ],
   "metadata": {
    "collapsed": false
   },
   "id": "aa492c228fbdf23e"
  },
  {
   "cell_type": "code",
   "execution_count": null,
   "id": "initial_id",
   "metadata": {
    "collapsed": true
   },
   "outputs": [],
   "source": [
    "clf = linear_model.LogisticRegression(max_iter=3000)\n",
    "sfs = SequentialFeatureSelector(clf, n_features_to_select=10, scoring='accuracy', cv=None)\n",
    "features = sfs.fit(X,yD)\n",
    "\n",
    "X_train, X_test, y_train, y_test = train_test_split(features.transform(X), yD, test_size=0.2, random_state=42)\n",
    "\n",
    "clf.fit(X_train, y_train)\n",
    "y_pred = clf.predict(X_test)"
   ]
  },
  {
   "cell_type": "code",
   "outputs": [],
   "source": [
    "clf = linear_model.LogisticRegression(max_iter=3000)\n",
    "sfs = SequentialFeatureSelector(clf, n_features_to_select=10, scoring='accuracy', cv=None)\n",
    "features = sfs.fit(X,yW)\n",
    "\n",
    "#X_train, X_test, y_train, y_test = train_test_split(selected, yW, test_size=0.2, random_state=42)\n",
    "X_train, X_test, y_train, y_test = train_test_split(features.transform(X), yW, test_size=0.2, random_state=42)\n",
    "\n",
    "clf.fit(X_train, y_train)\n",
    "y_pred = clf.predict(X_test)\n",
    "\n",
    "print(y_pred)\n",
    "print(accuracy_score(y_test, y_pred)) #0.4784688995215311\n",
    "print(f1_score(y_test, y_pred, average='micro'))"
   ],
   "metadata": {
    "collapsed": false
   },
   "id": "e5f79725082b8af4"
  }
 ],
 "metadata": {
  "kernelspec": {
   "display_name": "Python 3",
   "language": "python",
   "name": "python3"
  },
  "language_info": {
   "codemirror_mode": {
    "name": "ipython",
    "version": 2
   },
   "file_extension": ".py",
   "mimetype": "text/x-python",
   "name": "python",
   "nbconvert_exporter": "python",
   "pygments_lexer": "ipython2",
   "version": "2.7.6"
  }
 },
 "nbformat": 4,
 "nbformat_minor": 5
}
